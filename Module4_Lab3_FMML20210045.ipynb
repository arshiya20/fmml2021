{
  "nbformat": 4,
  "nbformat_minor": 0,
  "metadata": {
    "colab": {
      "name": "Module4_Lab3_FMML20210045.ipynb",
      "provenance": [],
      "include_colab_link": true
    },
    "kernelspec": {
      "name": "python3",
      "display_name": "Python 3"
    },
    "language_info": {
      "name": "python"
    }
  },
  "cells": [
    {
      "cell_type": "markdown",
      "metadata": {
        "id": "view-in-github",
        "colab_type": "text"
      },
      "source": [
        "<a href=\"https://colab.research.google.com/github/arshiya20/fmml2021/blob/main/Module4_Lab3_FMML20210045.ipynb\" target=\"_parent\"><img src=\"https://colab.research.google.com/assets/colab-badge.svg\" alt=\"Open In Colab\"/></a>"
      ]
    },
    {
      "cell_type": "markdown",
      "source": [
        "# FOUNDATIONS OF MODERN MACHINE LEARNING, IIIT Hyderabad\n",
        "# Module 4: Perceptron and Gradient Descent\n",
        "## Lab 3: Gradient Descent\n",
        "### Module Coordinator: Tanish Lad\n",
        "\n",
        "Gradient descent is a very important algorithm to understand, as it underpins many of the more advanced algorithms used in Machine Learning and Deep Learning.\n",
        "\n",
        "A brief overview of the algorithm is\n",
        "\n",
        "\n",
        "*   start with a random initialization of the solution.\n",
        "*   incrementally change the solution by moving in the direction of negative gradient of the objective function.\n",
        "*   repeat the previous step until some convergence criteria is met.\n",
        "\n",
        "The key equation for change in weight is:\n",
        "$$w^{k+1} \\leftarrow w^k - \\eta \\Delta J$$\n",
        "\n",
        "In this lab, we will discuss stochastic gradient descent, mini-batch gradient descent and batch gradient descent.\n"
      ],
      "metadata": {
        "id": "XYxxkQg6xCjD"
      }
    },
    {
      "cell_type": "code",
      "metadata": {
        "id": "Fr-MnaGs7JmZ"
      },
      "source": [
        "import numpy as np\n",
        "import matplotlib.pyplot as plt"
      ],
      "execution_count": 1,
      "outputs": []
    },
    {
      "cell_type": "code",
      "metadata": {
        "id": "7ob_zZms7VOu"
      },
      "source": [
        "np.random.seed(42)"
      ],
      "execution_count": 2,
      "outputs": []
    },
    {
      "cell_type": "markdown",
      "metadata": {
        "id": "v4Kix4bcChiy"
      },
      "source": [
        "# Creating the Data\n",
        "\n",
        "Let's generate some data with:\n",
        "\\begin{equation} y_0= 4 \\end{equation} \n",
        "\\begin{equation} y_1= 3 \\end{equation} \n",
        "\n",
        "and also add some noise to the data."
      ]
    },
    {
      "cell_type": "code",
      "metadata": {
        "id": "MtAS7eFZ9hX6"
      },
      "source": [
        "X = 2 * np.random.rand(100, 1)\n",
        "y = 4 + 3 * X + np.random.randn(100, 1)"
      ],
      "execution_count": 3,
      "outputs": []
    },
    {
      "cell_type": "markdown",
      "metadata": {
        "id": "zD95NaF-CxM-"
      },
      "source": [
        "Let's also plot the data we just created"
      ]
    },
    {
      "cell_type": "code",
      "metadata": {
        "colab": {
          "base_uri": "https://localhost:8080/",
          "height": 296
        },
        "id": "3IiEP4BQ7Wja",
        "outputId": "77890d19-b5df-4f19-852b-c3e69e73e841"
      },
      "source": [
        "plt.plot(X, y, 'b.')\n",
        "plt.xlabel('x')\n",
        "plt.ylabel('y', rotation=0)"
      ],
      "execution_count": 4,
      "outputs": [
        {
          "output_type": "execute_result",
          "data": {
            "text/plain": [
              "Text(0, 0.5, 'y')"
            ]
          },
          "metadata": {},
          "execution_count": 4
        },
        {
          "output_type": "display_data",
          "data": {
            "image/png": "[encoded data removed]",
            "text/plain": [
              "<Figure size 432x288 with 1 Axes>"
            ]
          },
          "metadata": {
            "needs_background": "light"
          }
        }
      ]
    },
    {
      "cell_type": "markdown",
      "metadata": {
        "id": "ScwxpouoDDyZ"
      },
      "source": [
        "## Cost Function\n",
        "\n",
        "The equation for calculating cost function is as shown below. The cost function is only for linear regression. For other algorithms, the cost function will be different and the gradients would have to be derived from the cost functions\n",
        "\n",
        "\\begin{equation}\n",
        "J(y_{pred}) = \\frac{1}{2} m \\sum_{i=1}^{m} (h(y_{pred})^{(i)} - y^{(i)})^2 \n",
        "\\end{equation}"
      ]
    },
    {
      "cell_type": "code",
      "metadata": {
        "id": "PUeTUAXH7ZaV"
      },
      "source": [
        "def cal_cost(y_pred, X, y):\n",
        "    '''\n",
        "    Calculates the cost for given X and Y.\n",
        "    y_pred = Vector of y_preds \n",
        "    X = Row of X's np.zeros((2, j))\n",
        "    y = Actual y's np.zeros((2, 1))\n",
        "    \n",
        "    where:\n",
        "        j is the no of features\n",
        "    '''\n",
        "    \n",
        "    m = len(y)\n",
        "    \n",
        "    predictions = X.dot(y_pred)\n",
        "    cost = (1 / 2 * m) * np.sum(np.square(predictions - y))\n",
        "\n",
        "    return cost"
      ],
      "execution_count": 5,
      "outputs": []
    },
    {
      "cell_type": "markdown",
      "metadata": {
        "id": "FcXqsVNpDbKC"
      },
      "source": [
        "## Gradients\n",
        "\n",
        "\\begin{equation}\n",
        "y_{pred_0}: = y_{pred_0} -\\alpha . (1/m .\\sum_{i=1}^{m}(h(y_{pred}^{(i)} - y^{(i)}).X_0^{(i)})\n",
        "\\end{equation}\n",
        "\\begin{equation}\n",
        "y_{pred_1}: = y_{pred_1} -\\alpha . (1/m .\\sum_{i=1}^{m}(h(y_{pred}^{(i)} - y^{(i)}).X_0^{(i)})\n",
        "\\end{equation}\n",
        ".\n",
        "\n",
        ".\n",
        "\n",
        ".\n",
        "\n",
        ".\n",
        "\n",
        "\\begin{equation}\n",
        "y_{pred_j}: = y_{pred_j} -\\alpha . (1/m .\\sum_{i=1}^{m}(h(y_{pred}^{(i)} - y^{(i)}).X_0^{(i)})\n",
        "\\end{equation}"
      ]
    },
    {
      "cell_type": "code",
      "metadata": {
        "id": "fwxBFXP88NBW"
      },
      "source": [
        "def gradient_descent(X, y, y_pred, learning_rate=0.01, iterations=100):\n",
        "    '''\n",
        "    X = Matrix of X with added bias units\n",
        "    y = Vector of Y\n",
        "    y_pred = Vector of y_preds np.random.randn(j, 1)\n",
        "    learning_rate \n",
        "    iterations = no of iterations\n",
        "    \n",
        "    Returns the final y_pred vector and array of cost history over no of iterations\n",
        "    '''\n",
        "\n",
        "    m = len(y)\n",
        "    cost_history = np.zeros(iterations)\n",
        "    y_pred_history = np.zeros((iterations, 2))\n",
        "    \n",
        "    for it in range(iterations):    \n",
        "        prediction = np.dot(X, y_pred)\n",
        "        y_pred = y_pred - (1 / m) * learning_rate * (X.T.dot((prediction - y)))\n",
        "        y_pred_history[it,:] = y_pred.T\n",
        "        cost_history[it]  = cal_cost(y_pred, X, y)\n",
        "        \n",
        "    return y_pred, cost_history, y_pred_history    "
      ],
      "execution_count": 6,
      "outputs": []
    },
    {
      "cell_type": "markdown",
      "metadata": {
        "id": "1iSohSB2EtK1"
      },
      "source": [
        "Let's do 1000 iterations with a learning rate of 0.01. \n",
        "We will start with a random prediction."
      ]
    },
    {
      "cell_type": "code",
      "metadata": {
        "colab": {
          "base_uri": "https://localhost:8080/"
        },
        "id": "18AX7hrU8bv5",
        "outputId": "e4bd66df-8dea-4490-ee0d-2d402f2a19a5"
      },
      "source": [
        "lr = 0.01\n",
        "n_iter = 1000\n",
        "\n",
        "y_pred = np.random.randn(2,1)\n",
        "X_b = np.c_[np.ones((len(X), 1)), X]\n",
        "y_pred, cost_history, y_pred_history = gradient_descent(X_b, y, y_pred, lr, n_iter)\n",
        "\n",
        "print('y_pred[0]: {:0.3f}\\ny_pred[1]: {:0.3f}'.format(y_pred[0][0], y_pred[1][0]))\n",
        "print('Final error: {:0.3f}'.format(cost_history[-1]))"
      ],
      "execution_count": 7,
      "outputs": [
        {
          "output_type": "stream",
          "name": "stdout",
          "text": [
            "y_pred[0]: 3.903\n",
            "y_pred[1]: 3.046\n",
            "Final error: 4180.375\n"
          ]
        }
      ]
    },
    {
      "cell_type": "markdown",
      "metadata": {
        "id": "m7fao2MaE216"
      },
      "source": [
        "Plotting the error vs Number of iterations"
      ]
    },
    {
      "cell_type": "code",
      "metadata": {
        "colab": {
          "base_uri": "https://localhost:8080/",
          "height": 514
        },
        "id": "DrkrAAbk8hIs",
        "outputId": "983a77fc-103e-46ed-af38-783f837c4d85"
      },
      "source": [
        "fig, ax = plt.subplots(figsize=(12,8))\n",
        "\n",
        "ax.set_ylabel('Error')\n",
        "ax.set_xlabel('Number of iterations')\n",
        "\n",
        "ax.plot(range(n_iter), cost_history, 'b.')"
      ],
      "execution_count": 8,
      "outputs": [
        {
          "output_type": "execute_result",
          "data": {
            "text/plain": [
              "[<matplotlib.lines.Line2D at 0x7f759372e750>]"
            ]
          },
          "metadata": {},
          "execution_count": 8
        },
        {
          "output_type": "display_data",
          "data": {
            "image/png": "[encoded data removed]",
            "text/plain": [
              "<Figure size 864x576 with 1 Axes>"
            ]
          },
          "metadata": {
            "needs_background": "light"
          }
        }
      ]
    },
    {
      "cell_type": "markdown",
      "metadata": {
        "id": "IG5tWAy-FCaW"
      },
      "source": [
        "Zooming in..."
      ]
    },
    {
      "cell_type": "code",
      "metadata": {
        "colab": {
          "base_uri": "https://localhost:8080/",
          "height": 500
        },
        "id": "WZ7BoFHy8kTk",
        "outputId": "3fedaf81-5dab-4845-c4d1-47554da1cd8b"
      },
      "source": [
        "fig,ax = plt.subplots(figsize=(10,8))\n",
        "ax.plot(range(200), cost_history[:200], 'b.')"
      ],
      "execution_count": 9,
      "outputs": [
        {
          "output_type": "execute_result",
          "data": {
            "text/plain": [
              "[<matplotlib.lines.Line2D at 0x7f75931c05d0>]"
            ]
          },
          "metadata": {},
          "execution_count": 9
        },
        {
          "output_type": "display_data",
          "data": {
            "image/png": "[encoded data removed]",
            "text/plain": [
              "<Figure size 720x576 with 1 Axes>"
            ]
          },
          "metadata": {
            "needs_background": "light"
          }
        }
      ]
    },
    {
      "cell_type": "markdown",
      "metadata": {
        "id": "JYhOp3fjnh2G"
      },
      "source": [
        "# Stochastic Gradient Descent"
      ]
    },
    {
      "cell_type": "markdown",
      "source": [
        "In Batch Gradient Descent we were considering all the examples for every step of Gradient Descent. But what if our dataset is very huge. Deep learning models crave for data. The more the data the more chances of a model to be good. Suppose our dataset has 5 million examples, then just to take one step the model will have to calculate the gradients of all the 5 million examples. This does not seem an efficient way. To tackle this problem we have Stochastic Gradient Descent. In Stochastic Gradient Descent (SGD), we consider just one example at a time to take a single step."
      ],
      "metadata": {
        "id": "10N2dcwWUctJ"
      }
    },
    {
      "cell_type": "code",
      "metadata": {
        "id": "aVwD7Cqw8m1d"
      },
      "source": [
        "def stocashtic_gradient_descent(X, y, y_pred, learning_rate=0.01, iterations=10):\n",
        "    '''\n",
        "    X = Matrix of X with added bias units\n",
        "    y = Vector of Y\n",
        "    y_pred = Vector of y_pred np.random.randn(j,1)\n",
        "    learning_rate \n",
        "    iterations = no of iterations\n",
        "    \n",
        "    Returns the final y_pred vector and array of cost history over no of iterations\n",
        "    '''\n",
        "\n",
        "    m = len(y)\n",
        "    cost_history = np.zeros(iterations)\n",
        "    \n",
        "    for it in range(iterations):\n",
        "        cost = 0.0\n",
        "        \n",
        "        for i in range(m):\n",
        "            rand_ind = np.random.randint(0,m)\n",
        "            X_i = X[rand_ind, :].reshape(1, X.shape[1])\n",
        "            y_i = y[rand_ind].reshape(1,1)\n",
        "            prediction = np.dot(X_i, y_pred)\n",
        "\n",
        "            y_pred = y_pred - (1 / m) * learning_rate *(X_i.T.dot((prediction - y_i)))\n",
        "            cost += cal_cost(y_pred, X_i, y_i)\n",
        "\n",
        "        cost_history[it]  = cost\n",
        "        \n",
        "    return y_pred, cost_history"
      ],
      "execution_count": 10,
      "outputs": []
    },
    {
      "cell_type": "code",
      "metadata": {
        "colab": {
          "base_uri": "https://localhost:8080/"
        },
        "id": "Yk6pfB5c8tPz",
        "outputId": "82c12507-8790-4549-8e67-afca4640f8ab"
      },
      "source": [
        "lr = 0.5\n",
        "n_iter = 50\n",
        "y_pred = np.random.randn(2, 1)\n",
        "X_b = np.c_[np.ones((len(X), 1)), X]\n",
        "y_pred, cost_history = stocashtic_gradient_descent(X_b, y, y_pred, lr, n_iter)\n",
        "\n",
        "print('y_pred[0]: {:0.3f}\\ny_pred[1]: {:0.3f}'.format(y_pred[0][0], y_pred[1][0]))\n",
        "print('Final error: {:0.3f}'.format(cost_history[-1]))"
      ],
      "execution_count": 11,
      "outputs": [
        {
          "output_type": "stream",
          "name": "stdout",
          "text": [
            "y_pred[0]: 4.121\n",
            "y_pred[1]: 2.755\n",
            "Final error: 41.313\n"
          ]
        }
      ]
    },
    {
      "cell_type": "code",
      "metadata": {
        "colab": {
          "base_uri": "https://localhost:8080/",
          "height": 514
        },
        "id": "YiJUgS7o8u2e",
        "outputId": "b565e244-d407-4984-b713-1ff37a2fd968"
      },
      "source": [
        "fig, ax = plt.subplots(figsize=(10,8))\n",
        "\n",
        "ax.set_ylabel('Error')\n",
        "ax.set_xlabel('Number of iterations')\n",
        "y_pred = np.random.randn(2,1)\n",
        "\n",
        "ax.plot(range(n_iter), cost_history, 'b.')"
      ],
      "execution_count": 12,
      "outputs": [
        {
          "output_type": "execute_result",
          "data": {
            "text/plain": [
              "[<matplotlib.lines.Line2D at 0x7f7593139ad0>]"
            ]
          },
          "metadata": {},
          "execution_count": 12
        },
        {
          "output_type": "display_data",
          "data": {
            "image/png": "[encoded data removed]",
            "text/plain": [
              "<Figure size 720x576 with 1 Axes>"
            ]
          },
          "metadata": {
            "needs_background": "light"
          }
        }
      ]
    },
    {
      "cell_type": "markdown",
      "metadata": {
        "id": "ScckWktynk1o"
      },
      "source": [
        "# Mini Batch Gradient Descent"
      ]
    },
    {
      "cell_type": "markdown",
      "source": [
        "We have seen the Batch Gradient Descent. We have also seen the Stochastic Gradient Descent. Batch Gradient Descent can be used for smoother curves. SGD can be used when the dataset is large. Batch Gradient Descent converges directly to minima. SGD converges faster for larger datasets. But, since in SGD we use only one example at a time, we cannot implement the vectorized implementation on it. This can slow down the computations. To tackle this problem, a mixture of Batch Gradient Descent and SGD is used.\n",
        "Neither we use all the dataset all at once nor we use the single example at a time. We use a batch of a fixed number of training examples which is less than the actual dataset and call it a mini-batch. Doing this helps us achieve the advantages of both the former variants we saw."
      ],
      "metadata": {
        "id": "ZTVz-QssUkuE"
      }
    },
    {
      "cell_type": "code",
      "metadata": {
        "id": "4JtxFVL78wEm"
      },
      "source": [
        "def minibatch_gradient_descent(X, y, y_pred, learning_rate=0.01, iterations=10, batch_size=20):\n",
        "    '''\n",
        "    X = Matrix of X without added bias units\n",
        "    y = Vector of Y\n",
        "    y_pred = Vector of y_preds np.random.randn(j, 1)\n",
        "    learning_rate \n",
        "    iterations = no of iterations\n",
        "    \n",
        "    Returns the final theta vector and array of cost history over no of iterations\n",
        "    '''\n",
        "\n",
        "    m = len(y)\n",
        "    cost_history = np.zeros(iterations)\n",
        "    n_batches = int(m / batch_size)\n",
        "    \n",
        "    for it in range(iterations):\n",
        "        cost = 0.0\n",
        "        indices = np.random.permutation(m)\n",
        "        X = X[indices]\n",
        "        y = y[indices]\n",
        "\n",
        "        for i in range(0, m, batch_size):\n",
        "            X_i = X[i: i + batch_size]\n",
        "            y_i = y[i: i + batch_size]\n",
        "            \n",
        "            X_i = np.c_[np.ones(len(X_i)), X_i]\n",
        "            prediction = np.dot(X_i, y_pred)\n",
        "\n",
        "            y_pred = y_pred - (1 / m) * learning_rate * (X_i.T.dot((prediction - y_i)))\n",
        "            cost += cal_cost(y_pred, X_i, y_i)\n",
        "\n",
        "        cost_history[it]  = cost\n",
        "        \n",
        "    return y_pred, cost_history"
      ],
      "execution_count": 13,
      "outputs": []
    },
    {
      "cell_type": "code",
      "metadata": {
        "colab": {
          "base_uri": "https://localhost:8080/"
        },
        "id": "SpbsVwA28znL",
        "outputId": "61f7bdf0-90ef-4aae-ab62-b3433d241e20"
      },
      "source": [
        "lr = 0.1\n",
        "n_iter = 200\n",
        "y_pred = np.random.randn(2,1)\n",
        "y_pred, cost_history = minibatch_gradient_descent(X, y, y_pred, lr, n_iter)\n",
        "\n",
        "print('y_pred[0]: {:0.3f}\\ny_pred[1]: {:0.3f}'.format(y_pred[0][0], y_pred[1][0]))\n",
        "print('Final error: {:0.3f}'.format(cost_history[-1]))"
      ],
      "execution_count": 14,
      "outputs": [
        {
          "output_type": "stream",
          "name": "stdout",
          "text": [
            "y_pred[0]: 4.148\n",
            "y_pred[1]: 2.827\n",
            "Final error: 807.488\n"
          ]
        }
      ]
    },
    {
      "cell_type": "code",
      "metadata": {
        "colab": {
          "base_uri": "https://localhost:8080/",
          "height": 514
        },
        "id": "Q_ivOYHT817C",
        "outputId": "3417ed85-93ff-46c9-a867-b1951e50bbd1"
      },
      "source": [
        "fig, ax = plt.subplots(figsize=(10,8))\n",
        "\n",
        "ax.set_ylabel('Error')\n",
        "ax.set_xlabel('Number of iterations')\n",
        "y_pred = np.random.randn(2,1)\n",
        "\n",
        "ax.plot(range(n_iter), cost_history, 'b.')"
      ],
      "execution_count": 15,
      "outputs": [
        {
          "output_type": "execute_result",
          "data": {
            "text/plain": [
              "[<matplotlib.lines.Line2D at 0x7f75930ab790>]"
            ]
          },
          "metadata": {},
          "execution_count": 15
        },
        {
          "output_type": "display_data",
          "data": {
            "image/png": "[encoded data removed]",
            "text/plain": [
              "<Figure size 720x576 with 1 Axes>"
            ]
          },
          "metadata": {
            "needs_background": "light"
          }
        }
      ]
    },
    {
      "cell_type": "code",
      "metadata": {
        "id": "3Sn1erIU83ck"
      },
      "source": [
        ""
      ],
      "execution_count": null,
      "outputs": []
    },
    {
      "cell_type": "markdown",
      "source": [
        "Things to try out:\n",
        "\n",
        "1. Change batch size in mini-batch gradient descent.\n",
        "2. Test all the three out on real datasets.\n",
        "3. Compare the effects of changing learning rate by the same amount in Batch GD, SGD and Mini-batch GD."
      ],
      "metadata": {
        "id": "0neTARjKUoP4"
      }
    },
    {
      "cell_type": "markdown",
      "source": [
        "Changing the batch size to 40 in mini batch gradient descent"
      ],
      "metadata": {
        "id": "X4Y1B8gJk-6G"
      }
    },
    {
      "cell_type": "code",
      "source": [
        "def minibatch_gradient_descent(X, y, y_pred, learning_rate=0.01, iterations=10, batch_size=40):\n",
        "    '''\n",
        "    X = Matrix of X without added bias units\n",
        "    y = Vector of Y\n",
        "    y_pred = Vector of y_preds np.random.randn(j, 1)\n",
        "    learning_rate \n",
        "    iterations = no of iterations\n",
        "    \n",
        "    Returns the final theta vector and array of cost history over no of iterations\n",
        "    '''\n",
        "\n",
        "    m = len(y)\n",
        "    cost_history = np.zeros(iterations)\n",
        "    n_batches = int(m / batch_size)\n",
        "    \n",
        "    for it in range(iterations):\n",
        "        cost = 0.0\n",
        "        indices = np.random.permutation(m)\n",
        "        X = X[indices]\n",
        "        y = y[indices]\n",
        "\n",
        "        for i in range(0, m, batch_size):\n",
        "            X_i = X[i: i + batch_size]\n",
        "            y_i = y[i: i + batch_size]\n",
        "            \n",
        "            X_i = np.c_[np.ones(len(X_i)), X_i]\n",
        "            prediction = np.dot(X_i, y_pred)\n",
        "\n",
        "            y_pred = y_pred - (1 / m) * learning_rate * (X_i.T.dot((prediction - y_i)))\n",
        "            cost += cal_cost(y_pred, X_i, y_i)\n",
        "\n",
        "        cost_history[it]  = cost\n",
        "        \n",
        "    return y_pred, cost_history"
      ],
      "metadata": {
        "id": "hV5UHRjwkqLS"
      },
      "execution_count": 16,
      "outputs": []
    },
    {
      "cell_type": "code",
      "source": [
        "lr = 0.1\n",
        "n_iter = 200\n",
        "y_pred = np.random.randn(2,1)\n",
        "y_pred, cost_history = minibatch_gradient_descent(X, y, y_pred, lr, n_iter)\n",
        "\n",
        "print('y_pred[0]: {:0.3f}\\ny_pred[1]: {:0.3f}'.format(y_pred[0][0], y_pred[1][0]))\n",
        "print('Final error: {:0.3f}'.format(cost_history[-1]))"
      ],
      "metadata": {
        "colab": {
          "base_uri": "https://localhost:8080/"
        },
        "id": "OKpb6r5Ik3rm",
        "outputId": "5cb020b3-0269-4a77-daf7-b8328476f7f0"
      },
      "execution_count": 17,
      "outputs": [
        {
          "output_type": "stream",
          "name": "stdout",
          "text": [
            "y_pred[0]: 4.248\n",
            "y_pred[1]: 2.741\n",
            "Final error: 1454.862\n"
          ]
        }
      ]
    },
    {
      "cell_type": "code",
      "source": [
        "fig, ax = plt.subplots(figsize=(10,8))\n",
        "\n",
        "ax.set_ylabel('Error')\n",
        "ax.set_xlabel('Number of iterations')\n",
        "y_pred = np.random.randn(2,1)\n",
        "\n",
        "ax.plot(range(n_iter), cost_history, 'b.')"
      ],
      "metadata": {
        "colab": {
          "base_uri": "https://localhost:8080/",
          "height": 514
        },
        "id": "iq-XFyUKk7_5",
        "outputId": "c5a0380c-4694-4432-813b-246ed850ec5a"
      },
      "execution_count": 18,
      "outputs": [
        {
          "output_type": "execute_result",
          "data": {
            "text/plain": [
              "[<matplotlib.lines.Line2D at 0x7f75930a0a90>]"
            ]
          },
          "metadata": {},
          "execution_count": 18
        },
        {
          "output_type": "display_data",
          "data": {
            "image/png": "[encoded data removed]",
            "text/plain": [
              "<Figure size 720x576 with 1 Axes>"
            ]
          },
          "metadata": {
            "needs_background": "light"
          }
        }
      ]
    },
    {
      "cell_type": "markdown",
      "source": [
        "Changing the learning rate in Mini batch gradient descent"
      ],
      "metadata": {
        "id": "eZTxrSjrlZV3"
      }
    },
    {
      "cell_type": "code",
      "source": [
        "lr = 0.01\n",
        "n_iter = 200\n",
        "y_pred = np.random.randn(2,1)\n",
        "y_pred, cost_history = minibatch_gradient_descent(X, y, y_pred, lr, n_iter)\n",
        "\n",
        "print('y_pred[0]: {:0.3f}\\ny_pred[1]: {:0.3f}'.format(y_pred[0][0], y_pred[1][0]))\n",
        "print('Final error: {:0.3f}'.format(cost_history[-1]))"
      ],
      "metadata": {
        "colab": {
          "base_uri": "https://localhost:8080/"
        },
        "id": "gJBIStONliST",
        "outputId": "63c400b4-8a99-4b96-88e3-f7eaa17e265b"
      },
      "execution_count": 21,
      "outputs": [
        {
          "output_type": "stream",
          "name": "stdout",
          "text": [
            "y_pred[0]: 2.846\n",
            "y_pred[1]: 3.863\n",
            "Final error: 2510.100\n"
          ]
        }
      ]
    },
    {
      "cell_type": "code",
      "source": [
        "fig, ax = plt.subplots(figsize=(10,8))\n",
        "\n",
        "ax.set_ylabel('Error')\n",
        "ax.set_xlabel('Number of iterations')\n",
        "y_pred = np.random.randn(2,1)\n",
        "\n",
        "ax.plot(range(n_iter), cost_history, 'b.')"
      ],
      "metadata": {
        "colab": {
          "base_uri": "https://localhost:8080/",
          "height": 514
        },
        "id": "DFHAqFxLlpKd",
        "outputId": "38e540c8-c27c-457b-d0c6-fce8b4ef0b4e"
      },
      "execution_count": 22,
      "outputs": [
        {
          "output_type": "execute_result",
          "data": {
            "text/plain": [
              "[<matplotlib.lines.Line2D at 0x7f759301b750>]"
            ]
          },
          "metadata": {},
          "execution_count": 22
        },
        {
          "output_type": "display_data",
          "data": {
            "image/png": "[encoded data removed]",
            "text/plain": [
              "<Figure size 720x576 with 1 Axes>"
            ]
          },
          "metadata": {
            "needs_background": "light"
          }
        }
      ]
    },
    {
      "cell_type": "markdown",
      "source": [
        "Changing the learning rate in stochastic gradient descent"
      ],
      "metadata": {
        "id": "FS9ScZLomJmO"
      }
    },
    {
      "cell_type": "code",
      "source": [
        "lr = 0.1\n",
        "n_iter = 50\n",
        "y_pred = np.random.randn(2, 1)\n",
        "X_b = np.c_[np.ones((len(X), 1)), X]\n",
        "y_pred, cost_history = stocashtic_gradient_descent(X_b, y, y_pred, lr, n_iter)\n",
        "\n",
        "print('y_pred[0]: {:0.3f}\\ny_pred[1]: {:0.3f}'.format(y_pred[0][0], y_pred[1][0]))\n",
        "print('Final error: {:0.3f}'.format(cost_history[-1]))"
      ],
      "metadata": {
        "colab": {
          "base_uri": "https://localhost:8080/"
        },
        "id": "MKafiCiCl1-u",
        "outputId": "40d650cc-0180-4beb-a8eb-5b4e88f726c3"
      },
      "execution_count": 24,
      "outputs": [
        {
          "output_type": "stream",
          "name": "stdout",
          "text": [
            "y_pred[0]: 3.903\n",
            "y_pred[1]: 3.042\n",
            "Final error: 44.774\n"
          ]
        }
      ]
    },
    {
      "cell_type": "code",
      "source": [
        "fig, ax = plt.subplots(figsize=(10,8))\n",
        "\n",
        "ax.set_ylabel('Error')\n",
        "ax.set_xlabel('Number of iterations')\n",
        "y_pred = np.random.randn(2,1)\n",
        "\n",
        "ax.plot(range(n_iter), cost_history, 'b.')"
      ],
      "metadata": {
        "colab": {
          "base_uri": "https://localhost:8080/",
          "height": 514
        },
        "id": "NIHk4-POl_dO",
        "outputId": "1eb85417-3549-4ea1-e313-564233350450"
      },
      "execution_count": 25,
      "outputs": [
        {
          "output_type": "execute_result",
          "data": {
            "text/plain": [
              "[<matplotlib.lines.Line2D at 0x7f75931811d0>]"
            ]
          },
          "metadata": {},
          "execution_count": 25
        },
        {
          "output_type": "display_data",
          "data": {
            "image/png": "[encoded data removed]",
            "text/plain": [
              "<Figure size 720x576 with 1 Axes>"
            ]
          },
          "metadata": {
            "needs_background": "light"
          }
        }
      ]
    },
    {
      "cell_type": "markdown",
      "source": [
        "Changing the learning rate in gradient descent"
      ],
      "metadata": {
        "id": "nZV1xH81mUxv"
      }
    },
    {
      "cell_type": "code",
      "source": [
        "lr = 0.1\n",
        "n_iter = 1000\n",
        "\n",
        "y_pred = np.random.randn(2,1)\n",
        "X_b = np.c_[np.ones((len(X), 1)), X]\n",
        "y_pred, cost_history, y_pred_history = gradient_descent(X_b, y, y_pred, lr, n_iter)\n",
        "\n",
        "print('y_pred[0]: {:0.3f}\\ny_pred[1]: {:0.3f}'.format(y_pred[0][0], y_pred[1][0]))\n",
        "print('Final error: {:0.3f}'.format(cost_history[-1]))"
      ],
      "metadata": {
        "colab": {
          "base_uri": "https://localhost:8080/"
        },
        "id": "L9ZJkrSpmYMu",
        "outputId": "d54e4a0c-e727-437c-8881-0ba55419c2e3"
      },
      "execution_count": 26,
      "outputs": [
        {
          "output_type": "stream",
          "name": "stdout",
          "text": [
            "y_pred[0]: 4.215\n",
            "y_pred[1]: 2.770\n",
            "Final error: 4032.923\n"
          ]
        }
      ]
    },
    {
      "cell_type": "code",
      "source": [
        "fig, ax = plt.subplots(figsize=(12,8))\n",
        "\n",
        "ax.set_ylabel('Error')\n",
        "ax.set_xlabel('Number of iterations')\n",
        "\n",
        "ax.plot(range(n_iter), cost_history, 'b.')"
      ],
      "metadata": {
        "colab": {
          "base_uri": "https://localhost:8080/",
          "height": 514
        },
        "id": "FKpThNfwmglj",
        "outputId": "80aaa6ef-dec8-413b-cf8b-954387b34f9c"
      },
      "execution_count": 27,
      "outputs": [
        {
          "output_type": "execute_result",
          "data": {
            "text/plain": [
              "[<matplotlib.lines.Line2D at 0x7f759301b9d0>]"
            ]
          },
          "metadata": {},
          "execution_count": 27
        },
        {
          "output_type": "display_data",
          "data": {
            "image/png": "[encoded data removed]",
            "text/plain": [
              "<Figure size 864x576 with 1 Axes>"
            ]
          },
          "metadata": {
            "needs_background": "light"
          }
        }
      ]
    },
    {
      "cell_type": "markdown",
      "source": [
        "Using SGD in real dataset"
      ],
      "metadata": {
        "id": "M7voelr-p0Mi"
      }
    },
    {
      "cell_type": "code",
      "source": [
        "import warnings\n",
        "warnings.filterwarnings(\"ignore\")\n",
        "from sklearn.datasets import load_boston\n",
        "from random import seed\n",
        "from random import randrange\n",
        "from csv import reader\n",
        "from math import sqrt\n",
        "from sklearn import preprocessing\n",
        "import pandas as pd\n",
        "import numpy as np\n",
        "import matplotlib.pyplot as plt\n",
        "from prettytable import PrettyTable\n",
        "from sklearn.linear_model import SGDRegressor\n",
        "from sklearn import preprocessing\n",
        "from sklearn.metrics import mean_squared_error\n",
        "from sklearn.model_selection import train_test_split"
      ],
      "metadata": {
        "id": "sSpb2bZene6v"
      },
      "execution_count": 28,
      "outputs": []
    },
    {
      "cell_type": "code",
      "source": [
        "X = load_boston().data\n",
        "Y = load_boston().target"
      ],
      "metadata": {
        "id": "7zb2fIgsnjOa"
      },
      "execution_count": 29,
      "outputs": []
    },
    {
      "cell_type": "code",
      "source": [
        "X_train, X_test, y_train, y_test = train_test_split(X, Y, test_size=0.3, random_state=0)"
      ],
      "metadata": {
        "id": "gTEHdWFAnnCQ"
      },
      "execution_count": 30,
      "outputs": []
    },
    {
      "cell_type": "code",
      "source": [
        "scaler = preprocessing.StandardScaler()\n",
        "X_train = scaler.fit_transform(X_train)\n",
        "X_test = scaler.transform(X_test)"
      ],
      "metadata": {
        "id": "q1in1E-ZntZ-"
      },
      "execution_count": 31,
      "outputs": []
    },
    {
      "cell_type": "code",
      "source": [
        "X_train = pd.DataFrame(data = X_train, columns=load_boston().feature_names)\n",
        "X_train['Price'] = list(y_train)  \n",
        "X_test = pd.DataFrame(data = X_test, columns=load_boston().feature_names)\n",
        "X_test['Price'] = list(y_test)"
      ],
      "metadata": {
        "id": "fODNEWxsnxDH"
      },
      "execution_count": 37,
      "outputs": []
    },
    {
      "cell_type": "code",
      "source": [
        "X_train.head()"
      ],
      "metadata": {
        "colab": {
          "base_uri": "https://localhost:8080/",
          "height": 206
        },
        "id": "CRhnFEKDn1kX",
        "outputId": "e0a11760-9851-4791-c00b-fcb12e24ae6c"
      },
      "execution_count": 33,
      "outputs": [
        {
          "output_type": "execute_result",
          "data": {
            "text/html": [
              "\n",
              "  <div id=\"df-56dee30d-7706-4d38-9ac1-fc5b833549f6\">\n",
              "    <div class=\"colab-df-container\">\n",
              "      <div>\n",
              "<style scoped>\n",
              "    .dataframe tbody tr th:only-of-type {\n",
              "        vertical-align: middle;\n",
              "    }\n",
              "\n",
              "    .dataframe tbody tr th {\n",
              "        vertical-align: top;\n",
              "    }\n",
              "\n",
              "    .dataframe thead th {\n",
              "        text-align: right;\n",
              "    }\n",
              "</style>\n",
              "<table border=\"1\" class=\"dataframe\">\n",
              "  <thead>\n",
              "    <tr style=\"text-align: right;\">\n",
              "      <th></th>\n",
              "      <th>CRIM</th>\n",
              "      <th>ZN</th>\n",
              "      <th>INDUS</th>\n",
              "      <th>CHAS</th>\n",
              "      <th>NOX</th>\n",
              "      <th>RM</th>\n",
              "      <th>AGE</th>\n",
              "      <th>DIS</th>\n",
              "      <th>RAD</th>\n",
              "      <th>TAX</th>\n",
              "      <th>PTRATIO</th>\n",
              "      <th>B</th>\n",
              "      <th>LSTAT</th>\n",
              "      <th>Price</th>\n",
              "    </tr>\n",
              "  </thead>\n",
              "  <tbody>\n",
              "    <tr>\n",
              "      <th>0</th>\n",
              "      <td>-0.207356</td>\n",
              "      <td>-0.499979</td>\n",
              "      <td>1.548016</td>\n",
              "      <td>-0.263603</td>\n",
              "      <td>0.588213</td>\n",
              "      <td>-1.839367</td>\n",
              "      <td>1.107402</td>\n",
              "      <td>-1.125110</td>\n",
              "      <td>-0.618160</td>\n",
              "      <td>0.206735</td>\n",
              "      <td>1.227257</td>\n",
              "      <td>0.424543</td>\n",
              "      <td>3.108073</td>\n",
              "      <td>14.4</td>\n",
              "    </tr>\n",
              "    <tr>\n",
              "      <th>1</th>\n",
              "      <td>-0.388865</td>\n",
              "      <td>0.346774</td>\n",
              "      <td>-0.589747</td>\n",
              "      <td>-0.263603</td>\n",
              "      <td>-0.797821</td>\n",
              "      <td>0.327487</td>\n",
              "      <td>-0.367661</td>\n",
              "      <td>0.075090</td>\n",
              "      <td>-0.733637</td>\n",
              "      <td>-1.049493</td>\n",
              "      <td>0.056963</td>\n",
              "      <td>0.401853</td>\n",
              "      <td>-0.666430</td>\n",
              "      <td>24.4</td>\n",
              "    </tr>\n",
              "    <tr>\n",
              "      <th>2</th>\n",
              "      <td>-0.335735</td>\n",
              "      <td>-0.499979</td>\n",
              "      <td>1.548016</td>\n",
              "      <td>-0.263603</td>\n",
              "      <td>0.588213</td>\n",
              "      <td>0.037907</td>\n",
              "      <td>1.043114</td>\n",
              "      <td>-0.799984</td>\n",
              "      <td>-0.618160</td>\n",
              "      <td>0.206735</td>\n",
              "      <td>1.227257</td>\n",
              "      <td>0.398461</td>\n",
              "      <td>0.639367</td>\n",
              "      <td>18.1</td>\n",
              "    </tr>\n",
              "    <tr>\n",
              "      <th>3</th>\n",
              "      <td>-0.394852</td>\n",
              "      <td>2.463658</td>\n",
              "      <td>-1.265584</td>\n",
              "      <td>-0.263603</td>\n",
              "      <td>-1.352235</td>\n",
              "      <td>0.052172</td>\n",
              "      <td>-1.746292</td>\n",
              "      <td>1.968937</td>\n",
              "      <td>-0.502683</td>\n",
              "      <td>-0.257013</td>\n",
              "      <td>-1.653466</td>\n",
              "      <td>0.089342</td>\n",
              "      <td>-1.056896</td>\n",
              "      <td>22.5</td>\n",
              "    </tr>\n",
              "    <tr>\n",
              "      <th>4</th>\n",
              "      <td>-0.391456</td>\n",
              "      <td>-0.499979</td>\n",
              "      <td>2.086394</td>\n",
              "      <td>-0.263603</td>\n",
              "      <td>0.215716</td>\n",
              "      <td>-0.495604</td>\n",
              "      <td>0.853820</td>\n",
              "      <td>-0.811511</td>\n",
              "      <td>-0.849114</td>\n",
              "      <td>-1.254951</td>\n",
              "      <td>0.282020</td>\n",
              "      <td>0.204545</td>\n",
              "      <td>0.776596</td>\n",
              "      <td>20.5</td>\n",
              "    </tr>\n",
              "  </tbody>\n",
              "</table>\n",
              "</div>\n",
              "      <button class=\"colab-df-convert\" onclick=\"convertToInteractive('df-56dee30d-7706-4d38-9ac1-fc5b833549f6')\"\n",
              "              title=\"Convert this dataframe to an interactive table.\"\n",
              "              style=\"display:none;\">\n",
              "        \n",
              "  <svg xmlns=\"http://www.w3.org/2000/svg\" height=\"24px\"viewBox=\"0 0 24 24\"\n",
              "       width=\"24px\">\n",
              "    <path d=\"M0 0h24v24H0V0z\" fill=\"none\"/>\n",
              "    <path d=\"M18.56 5.44l.94 2.06.94-2.06 2.06-.94-2.06-.94-.94-2.06-.94 2.06-2.06.94zm-11 1L8.5 8.5l.94-2.06 2.06-.94-2.06-.94L8.5 2.5l-.94 2.06-2.06.94zm10 10l.94 2.06.94-2.06 2.06-.94-2.06-.94-.94-2.06-.94 2.06-2.06.94z\"/><path d=\"M17.41 7.96l-1.37-1.37c-.4-.4-.92-.59-1.43-.59-.52 0-1.04.2-1.43.59L10.3 9.45l-7.72 7.72c-.78.78-.78 2.05 0 2.83L4 21.41c.39.39.9.59 1.41.59.51 0 1.02-.2 1.41-.59l7.78-7.78 2.81-2.81c.8-.78.8-2.07 0-2.86zM5.41 20L4 18.59l7.72-7.72 1.47 1.35L5.41 20z\"/>\n",
              "  </svg>\n",
              "      </button>\n",
              "      \n",
              "  <style>\n",
              "    .colab-df-container {\n",
              "      display:flex;\n",
              "      flex-wrap:wrap;\n",
              "      gap: 12px;\n",
              "    }\n",
              "\n",
              "    .colab-df-convert {\n",
              "      background-color: #E8F0FE;\n",
              "      border: none;\n",
              "      border-radius: 50%;\n",
              "      cursor: pointer;\n",
              "      display: none;\n",
              "      fill: #1967D2;\n",
              "      height: 32px;\n",
              "      padding: 0 0 0 0;\n",
              "      width: 32px;\n",
              "    }\n",
              "\n",
              "    .colab-df-convert:hover {\n",
              "      background-color: #E2EBFA;\n",
              "      box-shadow: 0px 1px 2px rgba(60, 64, 67, 0.3), 0px 1px 3px 1px rgba(60, 64, 67, 0.15);\n",
              "      fill: #174EA6;\n",
              "    }\n",
              "\n",
              "    [theme=dark] .colab-df-convert {\n",
              "      background-color: #3B4455;\n",
              "      fill: #D2E3FC;\n",
              "    }\n",
              "\n",
              "    [theme=dark] .colab-df-convert:hover {\n",
              "      background-color: #434B5C;\n",
              "      box-shadow: 0px 1px 3px 1px rgba(0, 0, 0, 0.15);\n",
              "      filter: drop-shadow(0px 1px 2px rgba(0, 0, 0, 0.3));\n",
              "      fill: #FFFFFF;\n",
              "    }\n",
              "  </style>\n",
              "\n",
              "      <script>\n",
              "        const buttonEl =\n",
              "          document.querySelector('#df-56dee30d-7706-4d38-9ac1-fc5b833549f6 button.colab-df-convert');\n",
              "        buttonEl.style.display =\n",
              "          google.colab.kernel.accessAllowed ? 'block' : 'none';\n",
              "\n",
              "        async function convertToInteractive(key) {\n",
              "          const element = document.querySelector('#df-56dee30d-7706-4d38-9ac1-fc5b833549f6');\n",
              "          const dataTable =\n",
              "            await google.colab.kernel.invokeFunction('convertToInteractive',\n",
              "                                                     [key], {});\n",
              "          if (!dataTable) return;\n",
              "\n",
              "          const docLinkHtml = 'Like what you see? Visit the ' +\n",
              "            '<a target=\"_blank\" href=https://colab.research.google.com/notebooks/data_table.ipynb>data table notebook</a>'\n",
              "            + ' to learn more about interactive tables.';\n",
              "          element.innerHTML = '';\n",
              "          dataTable['output_type'] = 'display_data';\n",
              "          await google.colab.output.renderOutput(dataTable, element);\n",
              "          const docLink = document.createElement('div');\n",
              "          docLink.innerHTML = docLinkHtml;\n",
              "          element.appendChild(docLink);\n",
              "        }\n",
              "      </script>\n",
              "    </div>\n",
              "  </div>\n",
              "  "
            ],
            "text/plain": [
              "       CRIM        ZN     INDUS      CHAS  ...   PTRATIO         B     LSTAT  Price\n",
              "0 -0.207356 -0.499979  1.548016 -0.263603  ...  1.227257  0.424543  3.108073   14.4\n",
              "1 -0.388865  0.346774 -0.589747 -0.263603  ...  0.056963  0.401853 -0.666430   24.4\n",
              "2 -0.335735 -0.499979  1.548016 -0.263603  ...  1.227257  0.398461  0.639367   18.1\n",
              "3 -0.394852  2.463658 -1.265584 -0.263603  ... -1.653466  0.089342 -1.056896   22.5\n",
              "4 -0.391456 -0.499979  2.086394 -0.263603  ...  0.282020  0.204545  0.776596   20.5\n",
              "\n",
              "[5 rows x 14 columns]"
            ]
          },
          "metadata": {},
          "execution_count": 33
        }
      ]
    },
    {
      "cell_type": "code",
      "source": [
        "def sgd_regressor(X, y, learning_rate=0.2, n_epochs=1000, k=40):    \n",
        "    w = np.random.randn(1,13)  # Randomly initializing weights\n",
        "    b = np.random.randn(1,1)   # Random intercept value    \n",
        "    epoch=1    \n",
        "    while epoch <= n_epochs:\n",
        "        temp = X.sample(k)\n",
        "        X_tr = temp.iloc[:,0:13].values\n",
        "        y_tr = temp.iloc[:,-1].values        \n",
        "        Lw = w\n",
        "        Lb = b        \n",
        "        loss = 0\n",
        "        y_pred = []\n",
        "        sq_loss = []        \n",
        "        for i in range(k):              \n",
        "            Lw = (-2/k * X_tr[i]) * (y_tr[i] - np.dot(X_tr[i],w.T) - b)\n",
        "            Lb = (-2/k) * (y_tr[i] - np.dot(X_tr[i],w.T) - b)\n",
        "            \n",
        "            w = w - learning_rate * Lw\n",
        "            b = b - learning_rate * Lb\n",
        "            \n",
        "            y_predicted = np.dot(X_tr[i],w.T)\n",
        "            y_pred.append(y_predicted)\n",
        "        \n",
        "        loss = mean_squared_error(y_pred, y_tr)            \n",
        "        print(\"Epoch: %d, Loss: %.3f\" %(epoch, loss))\n",
        "        epoch+=1\n",
        "        learning_rate = learning_rate/1.02        \n",
        "    return w,b"
      ],
      "metadata": {
        "id": "7D0Oa5BMn_-I"
      },
      "execution_count": 41,
      "outputs": []
    },
    {
      "cell_type": "code",
      "source": [
        "def predict(x,w,b):\n",
        "    y_pred=[]\n",
        "    for i in range(len(x)):\n",
        "        temp_ = x\n",
        "        X_test = temp_.iloc[:,0:13].values\n",
        "        y = np.asscalar(np.dot(w,X_test[i])+b)\n",
        "        y_pred.append(y)\n",
        "    return np.array(y_pred)\n",
        "w,b = sgd_regressor(X_train,y_train)\n",
        "y_pred_customsgd = predict(X_test,w,b)"
      ],
      "metadata": {
        "colab": {
          "base_uri": "https://localhost:8080/"
        },
        "id": "UaygKNyLoNZB",
        "outputId": "5386e364-b7be-4b0b-9b43-45eab76849f7"
      },
      "execution_count": 36,
      "outputs": [
        {
          "output_type": "stream",
          "name": "stdout",
          "text": [
            "Epoch: 1, Loss: 465.314\n",
            "Epoch: 2, Loss: 487.476\n",
            "Epoch: 3, Loss: 481.360\n",
            "Epoch: 4, Loss: 447.948\n",
            "Epoch: 5, Loss: 509.779\n",
            "Epoch: 6, Loss: 440.394\n",
            "Epoch: 7, Loss: 527.939\n",
            "Epoch: 8, Loss: 517.439\n",
            "Epoch: 9, Loss: 511.773\n",
            "Epoch: 10, Loss: 487.894\n",
            "Epoch: 11, Loss: 532.601\n",
            "Epoch: 12, Loss: 492.329\n",
            "Epoch: 13, Loss: 506.402\n",
            "Epoch: 14, Loss: 585.840\n",
            "Epoch: 15, Loss: 542.906\n",
            "Epoch: 16, Loss: 521.925\n",
            "Epoch: 17, Loss: 571.522\n",
            "Epoch: 18, Loss: 557.980\n",
            "Epoch: 19, Loss: 491.748\n",
            "Epoch: 20, Loss: 561.320\n",
            "Epoch: 21, Loss: 505.703\n",
            "Epoch: 22, Loss: 551.309\n",
            "Epoch: 23, Loss: 495.956\n",
            "Epoch: 24, Loss: 544.874\n",
            "Epoch: 25, Loss: 538.529\n",
            "Epoch: 26, Loss: 587.414\n",
            "Epoch: 27, Loss: 515.971\n",
            "Epoch: 28, Loss: 533.240\n",
            "Epoch: 29, Loss: 478.459\n",
            "Epoch: 30, Loss: 561.700\n",
            "Epoch: 31, Loss: 521.097\n",
            "Epoch: 32, Loss: 523.660\n",
            "Epoch: 33, Loss: 523.898\n",
            "Epoch: 34, Loss: 517.993\n",
            "Epoch: 35, Loss: 471.003\n",
            "Epoch: 36, Loss: 491.288\n",
            "Epoch: 37, Loss: 558.110\n",
            "Epoch: 38, Loss: 493.897\n",
            "Epoch: 39, Loss: 521.072\n",
            "Epoch: 40, Loss: 523.110\n",
            "Epoch: 41, Loss: 524.848\n",
            "Epoch: 42, Loss: 555.727\n",
            "Epoch: 43, Loss: 620.557\n",
            "Epoch: 44, Loss: 488.296\n",
            "Epoch: 45, Loss: 482.525\n",
            "Epoch: 46, Loss: 532.619\n",
            "Epoch: 47, Loss: 557.290\n",
            "Epoch: 48, Loss: 536.287\n",
            "Epoch: 49, Loss: 500.868\n",
            "Epoch: 50, Loss: 563.524\n",
            "Epoch: 51, Loss: 499.808\n",
            "Epoch: 52, Loss: 509.820\n",
            "Epoch: 53, Loss: 513.845\n",
            "Epoch: 54, Loss: 517.584\n",
            "Epoch: 55, Loss: 525.567\n",
            "Epoch: 56, Loss: 508.923\n",
            "Epoch: 57, Loss: 509.046\n",
            "Epoch: 58, Loss: 518.654\n",
            "Epoch: 59, Loss: 506.637\n",
            "Epoch: 60, Loss: 523.142\n",
            "Epoch: 61, Loss: 540.841\n",
            "Epoch: 62, Loss: 503.381\n",
            "Epoch: 63, Loss: 548.312\n",
            "Epoch: 64, Loss: 509.165\n",
            "Epoch: 65, Loss: 514.820\n",
            "Epoch: 66, Loss: 511.837\n",
            "Epoch: 67, Loss: 500.260\n",
            "Epoch: 68, Loss: 523.294\n",
            "Epoch: 69, Loss: 517.015\n",
            "Epoch: 70, Loss: 554.821\n",
            "Epoch: 71, Loss: 563.626\n",
            "Epoch: 72, Loss: 520.797\n",
            "Epoch: 73, Loss: 527.556\n",
            "Epoch: 74, Loss: 510.788\n",
            "Epoch: 75, Loss: 521.018\n",
            "Epoch: 76, Loss: 535.164\n",
            "Epoch: 77, Loss: 518.829\n",
            "Epoch: 78, Loss: 488.722\n",
            "Epoch: 79, Loss: 544.291\n",
            "Epoch: 80, Loss: 572.968\n",
            "Epoch: 81, Loss: 488.179\n",
            "Epoch: 82, Loss: 492.427\n",
            "Epoch: 83, Loss: 514.392\n",
            "Epoch: 84, Loss: 517.032\n",
            "Epoch: 85, Loss: 541.355\n",
            "Epoch: 86, Loss: 624.813\n",
            "Epoch: 87, Loss: 525.964\n",
            "Epoch: 88, Loss: 583.858\n",
            "Epoch: 89, Loss: 513.853\n",
            "Epoch: 90, Loss: 585.996\n",
            "Epoch: 91, Loss: 472.338\n",
            "Epoch: 92, Loss: 511.143\n",
            "Epoch: 93, Loss: 542.413\n",
            "Epoch: 94, Loss: 595.685\n",
            "Epoch: 95, Loss: 528.601\n",
            "Epoch: 96, Loss: 564.442\n",
            "Epoch: 97, Loss: 563.963\n",
            "Epoch: 98, Loss: 550.522\n",
            "Epoch: 99, Loss: 552.351\n",
            "Epoch: 100, Loss: 546.542\n",
            "Epoch: 101, Loss: 569.714\n",
            "Epoch: 102, Loss: 516.840\n",
            "Epoch: 103, Loss: 550.768\n",
            "Epoch: 104, Loss: 505.786\n",
            "Epoch: 105, Loss: 519.576\n",
            "Epoch: 106, Loss: 534.260\n",
            "Epoch: 107, Loss: 487.206\n",
            "Epoch: 108, Loss: 514.883\n",
            "Epoch: 109, Loss: 529.528\n",
            "Epoch: 110, Loss: 550.125\n",
            "Epoch: 111, Loss: 586.482\n",
            "Epoch: 112, Loss: 549.487\n",
            "Epoch: 113, Loss: 513.281\n",
            "Epoch: 114, Loss: 505.878\n",
            "Epoch: 115, Loss: 491.475\n",
            "Epoch: 116, Loss: 576.718\n",
            "Epoch: 117, Loss: 533.933\n",
            "Epoch: 118, Loss: 486.499\n",
            "Epoch: 119, Loss: 552.122\n",
            "Epoch: 120, Loss: 606.676\n",
            "Epoch: 121, Loss: 612.825\n",
            "Epoch: 122, Loss: 514.941\n",
            "Epoch: 123, Loss: 523.359\n",
            "Epoch: 124, Loss: 481.190\n",
            "Epoch: 125, Loss: 511.154\n",
            "Epoch: 126, Loss: 516.002\n",
            "Epoch: 127, Loss: 512.987\n",
            "Epoch: 128, Loss: 463.623\n",
            "Epoch: 129, Loss: 513.619\n",
            "Epoch: 130, Loss: 515.440\n",
            "Epoch: 131, Loss: 485.634\n",
            "Epoch: 132, Loss: 584.079\n",
            "Epoch: 133, Loss: 531.510\n",
            "Epoch: 134, Loss: 485.407\n",
            "Epoch: 135, Loss: 548.331\n",
            "Epoch: 136, Loss: 485.255\n",
            "Epoch: 137, Loss: 548.862\n",
            "Epoch: 138, Loss: 518.073\n",
            "Epoch: 139, Loss: 547.776\n",
            "Epoch: 140, Loss: 488.837\n",
            "Epoch: 141, Loss: 570.914\n",
            "Epoch: 142, Loss: 549.815\n",
            "Epoch: 143, Loss: 493.910\n",
            "Epoch: 144, Loss: 499.490\n",
            "Epoch: 145, Loss: 542.807\n",
            "Epoch: 146, Loss: 531.744\n",
            "Epoch: 147, Loss: 543.382\n",
            "Epoch: 148, Loss: 504.375\n",
            "Epoch: 149, Loss: 610.900\n",
            "Epoch: 150, Loss: 532.602\n",
            "Epoch: 151, Loss: 532.622\n",
            "Epoch: 152, Loss: 540.077\n",
            "Epoch: 153, Loss: 501.105\n",
            "Epoch: 154, Loss: 525.992\n",
            "Epoch: 155, Loss: 522.634\n",
            "Epoch: 156, Loss: 629.847\n",
            "Epoch: 157, Loss: 648.707\n",
            "Epoch: 158, Loss: 525.197\n",
            "Epoch: 159, Loss: 622.930\n",
            "Epoch: 160, Loss: 492.809\n",
            "Epoch: 161, Loss: 538.666\n",
            "Epoch: 162, Loss: 566.965\n",
            "Epoch: 163, Loss: 545.601\n",
            "Epoch: 164, Loss: 554.053\n",
            "Epoch: 165, Loss: 527.285\n",
            "Epoch: 166, Loss: 577.991\n",
            "Epoch: 167, Loss: 609.331\n",
            "Epoch: 168, Loss: 659.982\n",
            "Epoch: 169, Loss: 492.230\n",
            "Epoch: 170, Loss: 579.828\n",
            "Epoch: 171, Loss: 636.893\n",
            "Epoch: 172, Loss: 516.576\n",
            "Epoch: 173, Loss: 523.441\n",
            "Epoch: 174, Loss: 546.468\n",
            "Epoch: 175, Loss: 535.724\n",
            "Epoch: 176, Loss: 512.336\n",
            "Epoch: 177, Loss: 575.153\n",
            "Epoch: 178, Loss: 581.710\n",
            "Epoch: 179, Loss: 471.164\n",
            "Epoch: 180, Loss: 510.965\n",
            "Epoch: 181, Loss: 547.150\n",
            "Epoch: 182, Loss: 452.963\n",
            "Epoch: 183, Loss: 482.583\n",
            "Epoch: 184, Loss: 583.098\n",
            "Epoch: 185, Loss: 502.615\n",
            "Epoch: 186, Loss: 517.719\n",
            "Epoch: 187, Loss: 543.762\n",
            "Epoch: 188, Loss: 513.225\n",
            "Epoch: 189, Loss: 509.622\n",
            "Epoch: 190, Loss: 533.474\n",
            "Epoch: 191, Loss: 542.081\n",
            "Epoch: 192, Loss: 535.212\n",
            "Epoch: 193, Loss: 494.011\n",
            "Epoch: 194, Loss: 532.516\n",
            "Epoch: 195, Loss: 512.054\n",
            "Epoch: 196, Loss: 556.738\n",
            "Epoch: 197, Loss: 593.373\n",
            "Epoch: 198, Loss: 546.271\n",
            "Epoch: 199, Loss: 523.326\n",
            "Epoch: 200, Loss: 527.266\n",
            "Epoch: 201, Loss: 553.854\n",
            "Epoch: 202, Loss: 514.630\n",
            "Epoch: 203, Loss: 529.009\n",
            "Epoch: 204, Loss: 548.781\n",
            "Epoch: 205, Loss: 536.531\n",
            "Epoch: 206, Loss: 516.457\n",
            "Epoch: 207, Loss: 533.389\n",
            "Epoch: 208, Loss: 572.474\n",
            "Epoch: 209, Loss: 548.741\n",
            "Epoch: 210, Loss: 557.545\n",
            "Epoch: 211, Loss: 513.618\n",
            "Epoch: 212, Loss: 531.831\n",
            "Epoch: 213, Loss: 515.329\n",
            "Epoch: 214, Loss: 485.666\n",
            "Epoch: 215, Loss: 535.216\n",
            "Epoch: 216, Loss: 548.197\n",
            "Epoch: 217, Loss: 535.819\n",
            "Epoch: 218, Loss: 589.802\n",
            "Epoch: 219, Loss: 569.187\n",
            "Epoch: 220, Loss: 530.381\n",
            "Epoch: 221, Loss: 543.864\n",
            "Epoch: 222, Loss: 506.720\n",
            "Epoch: 223, Loss: 523.521\n",
            "Epoch: 224, Loss: 526.153\n",
            "Epoch: 225, Loss: 550.708\n",
            "Epoch: 226, Loss: 563.171\n",
            "Epoch: 227, Loss: 532.855\n",
            "Epoch: 228, Loss: 494.587\n",
            "Epoch: 229, Loss: 504.371\n",
            "Epoch: 230, Loss: 512.491\n",
            "Epoch: 231, Loss: 545.795\n",
            "Epoch: 232, Loss: 552.894\n",
            "Epoch: 233, Loss: 528.070\n",
            "Epoch: 234, Loss: 605.764\n",
            "Epoch: 235, Loss: 525.664\n",
            "Epoch: 236, Loss: 532.164\n",
            "Epoch: 237, Loss: 512.660\n",
            "Epoch: 238, Loss: 556.550\n",
            "Epoch: 239, Loss: 536.797\n",
            "Epoch: 240, Loss: 620.359\n",
            "Epoch: 241, Loss: 542.305\n",
            "Epoch: 242, Loss: 565.193\n",
            "Epoch: 243, Loss: 639.833\n",
            "Epoch: 244, Loss: 591.758\n",
            "Epoch: 245, Loss: 533.327\n",
            "Epoch: 246, Loss: 485.738\n",
            "Epoch: 247, Loss: 496.805\n",
            "Epoch: 248, Loss: 513.590\n",
            "Epoch: 249, Loss: 518.607\n",
            "Epoch: 250, Loss: 549.981\n",
            "Epoch: 251, Loss: 510.035\n",
            "Epoch: 252, Loss: 545.037\n",
            "Epoch: 253, Loss: 550.207\n",
            "Epoch: 254, Loss: 498.738\n",
            "Epoch: 255, Loss: 509.229\n",
            "Epoch: 256, Loss: 528.469\n",
            "Epoch: 257, Loss: 528.457\n",
            "Epoch: 258, Loss: 516.975\n",
            "Epoch: 259, Loss: 516.317\n",
            "Epoch: 260, Loss: 555.319\n",
            "Epoch: 261, Loss: 520.418\n",
            "Epoch: 262, Loss: 543.365\n",
            "Epoch: 263, Loss: 608.301\n",
            "Epoch: 264, Loss: 586.690\n",
            "Epoch: 265, Loss: 481.179\n",
            "Epoch: 266, Loss: 509.076\n",
            "Epoch: 267, Loss: 496.986\n",
            "Epoch: 268, Loss: 532.405\n",
            "Epoch: 269, Loss: 515.763\n",
            "Epoch: 270, Loss: 570.318\n",
            "Epoch: 271, Loss: 571.859\n",
            "Epoch: 272, Loss: 494.656\n",
            "Epoch: 273, Loss: 488.683\n",
            "Epoch: 274, Loss: 520.148\n",
            "Epoch: 275, Loss: 594.603\n",
            "Epoch: 276, Loss: 447.339\n",
            "Epoch: 277, Loss: 539.306\n",
            "Epoch: 278, Loss: 575.691\n",
            "Epoch: 279, Loss: 525.632\n",
            "Epoch: 280, Loss: 597.478\n",
            "Epoch: 281, Loss: 514.273\n",
            "Epoch: 282, Loss: 483.072\n",
            "Epoch: 283, Loss: 515.455\n",
            "Epoch: 284, Loss: 575.600\n",
            "Epoch: 285, Loss: 583.469\n",
            "Epoch: 286, Loss: 525.592\n",
            "Epoch: 287, Loss: 518.166\n",
            "Epoch: 288, Loss: 547.650\n",
            "Epoch: 289, Loss: 539.093\n",
            "Epoch: 290, Loss: 476.454\n",
            "Epoch: 291, Loss: 551.673\n",
            "Epoch: 292, Loss: 536.366\n",
            "Epoch: 293, Loss: 579.369\n",
            "Epoch: 294, Loss: 546.307\n",
            "Epoch: 295, Loss: 577.775\n",
            "Epoch: 296, Loss: 544.212\n",
            "Epoch: 297, Loss: 470.600\n",
            "Epoch: 298, Loss: 598.812\n",
            "Epoch: 299, Loss: 542.711\n",
            "Epoch: 300, Loss: 503.165\n",
            "Epoch: 301, Loss: 505.762\n",
            "Epoch: 302, Loss: 542.179\n",
            "Epoch: 303, Loss: 583.080\n",
            "Epoch: 304, Loss: 568.324\n",
            "Epoch: 305, Loss: 520.013\n",
            "Epoch: 306, Loss: 543.538\n",
            "Epoch: 307, Loss: 505.518\n",
            "Epoch: 308, Loss: 495.125\n",
            "Epoch: 309, Loss: 516.538\n",
            "Epoch: 310, Loss: 523.380\n",
            "Epoch: 311, Loss: 579.256\n",
            "Epoch: 312, Loss: 541.834\n",
            "Epoch: 313, Loss: 559.816\n",
            "Epoch: 314, Loss: 560.004\n",
            "Epoch: 315, Loss: 501.783\n",
            "Epoch: 316, Loss: 561.663\n",
            "Epoch: 317, Loss: 526.185\n",
            "Epoch: 318, Loss: 512.744\n",
            "Epoch: 319, Loss: 520.541\n",
            "Epoch: 320, Loss: 564.267\n",
            "Epoch: 321, Loss: 593.007\n",
            "Epoch: 322, Loss: 514.550\n",
            "Epoch: 323, Loss: 580.008\n",
            "Epoch: 324, Loss: 570.354\n",
            "Epoch: 325, Loss: 574.051\n",
            "Epoch: 326, Loss: 513.512\n",
            "Epoch: 327, Loss: 535.418\n",
            "Epoch: 328, Loss: 510.961\n",
            "Epoch: 329, Loss: 484.902\n",
            "Epoch: 330, Loss: 521.473\n",
            "Epoch: 331, Loss: 490.089\n",
            "Epoch: 332, Loss: 542.882\n",
            "Epoch: 333, Loss: 531.277\n",
            "Epoch: 334, Loss: 527.941\n",
            "Epoch: 335, Loss: 555.019\n",
            "Epoch: 336, Loss: 536.074\n",
            "Epoch: 337, Loss: 518.439\n",
            "Epoch: 338, Loss: 476.223\n",
            "Epoch: 339, Loss: 602.412\n",
            "Epoch: 340, Loss: 543.492\n",
            "Epoch: 341, Loss: 585.552\n",
            "Epoch: 342, Loss: 533.999\n",
            "Epoch: 343, Loss: 497.740\n",
            "Epoch: 344, Loss: 619.674\n",
            "Epoch: 345, Loss: 553.308\n",
            "Epoch: 346, Loss: 592.153\n",
            "Epoch: 347, Loss: 512.511\n",
            "Epoch: 348, Loss: 503.102\n",
            "Epoch: 349, Loss: 532.673\n",
            "Epoch: 350, Loss: 525.096\n",
            "Epoch: 351, Loss: 597.150\n",
            "Epoch: 352, Loss: 573.661\n",
            "Epoch: 353, Loss: 598.360\n",
            "Epoch: 354, Loss: 494.613\n",
            "Epoch: 355, Loss: 640.540\n",
            "Epoch: 356, Loss: 534.040\n",
            "Epoch: 357, Loss: 515.546\n",
            "Epoch: 358, Loss: 563.514\n",
            "Epoch: 359, Loss: 522.223\n",
            "Epoch: 360, Loss: 622.000\n",
            "Epoch: 361, Loss: 566.811\n",
            "Epoch: 362, Loss: 516.873\n",
            "Epoch: 363, Loss: 474.423\n",
            "Epoch: 364, Loss: 531.185\n",
            "Epoch: 365, Loss: 476.687\n",
            "Epoch: 366, Loss: 515.599\n",
            "Epoch: 367, Loss: 557.023\n",
            "Epoch: 368, Loss: 516.393\n",
            "Epoch: 369, Loss: 499.701\n",
            "Epoch: 370, Loss: 511.431\n",
            "Epoch: 371, Loss: 498.328\n",
            "Epoch: 372, Loss: 533.891\n",
            "Epoch: 373, Loss: 545.982\n",
            "Epoch: 374, Loss: 506.679\n",
            "Epoch: 375, Loss: 531.220\n",
            "Epoch: 376, Loss: 516.160\n",
            "Epoch: 377, Loss: 540.221\n",
            "Epoch: 378, Loss: 567.552\n",
            "Epoch: 379, Loss: 507.389\n",
            "Epoch: 380, Loss: 595.208\n",
            "Epoch: 381, Loss: 551.203\n",
            "Epoch: 382, Loss: 519.028\n",
            "Epoch: 383, Loss: 611.846\n",
            "Epoch: 384, Loss: 528.386\n",
            "Epoch: 385, Loss: 570.349\n",
            "Epoch: 386, Loss: 560.326\n",
            "Epoch: 387, Loss: 520.721\n",
            "Epoch: 388, Loss: 542.463\n",
            "Epoch: 389, Loss: 579.526\n",
            "Epoch: 390, Loss: 503.789\n",
            "Epoch: 391, Loss: 529.960\n",
            "Epoch: 392, Loss: 608.973\n",
            "Epoch: 393, Loss: 553.191\n",
            "Epoch: 394, Loss: 505.104\n",
            "Epoch: 395, Loss: 504.232\n",
            "Epoch: 396, Loss: 542.912\n",
            "Epoch: 397, Loss: 521.521\n",
            "Epoch: 398, Loss: 560.407\n",
            "Epoch: 399, Loss: 566.728\n",
            "Epoch: 400, Loss: 656.221\n",
            "Epoch: 401, Loss: 495.200\n",
            "Epoch: 402, Loss: 514.801\n",
            "Epoch: 403, Loss: 537.108\n",
            "Epoch: 404, Loss: 481.664\n",
            "Epoch: 405, Loss: 554.208\n",
            "Epoch: 406, Loss: 552.129\n",
            "Epoch: 407, Loss: 489.003\n",
            "Epoch: 408, Loss: 527.320\n",
            "Epoch: 409, Loss: 503.033\n",
            "Epoch: 410, Loss: 535.973\n",
            "Epoch: 411, Loss: 580.298\n",
            "Epoch: 412, Loss: 557.885\n",
            "Epoch: 413, Loss: 572.161\n",
            "Epoch: 414, Loss: 514.655\n",
            "Epoch: 415, Loss: 508.575\n",
            "Epoch: 416, Loss: 540.700\n",
            "Epoch: 417, Loss: 551.655\n",
            "Epoch: 418, Loss: 501.485\n",
            "Epoch: 419, Loss: 504.828\n",
            "Epoch: 420, Loss: 530.004\n",
            "Epoch: 421, Loss: 500.986\n",
            "Epoch: 422, Loss: 571.828\n",
            "Epoch: 423, Loss: 559.939\n",
            "Epoch: 424, Loss: 500.615\n",
            "Epoch: 425, Loss: 510.293\n",
            "Epoch: 426, Loss: 529.236\n",
            "Epoch: 427, Loss: 493.796\n",
            "Epoch: 428, Loss: 521.685\n",
            "Epoch: 429, Loss: 564.998\n",
            "Epoch: 430, Loss: 553.456\n",
            "Epoch: 431, Loss: 534.883\n",
            "Epoch: 432, Loss: 522.902\n",
            "Epoch: 433, Loss: 517.215\n",
            "Epoch: 434, Loss: 498.907\n",
            "Epoch: 435, Loss: 483.062\n",
            "Epoch: 436, Loss: 486.203\n",
            "Epoch: 437, Loss: 535.177\n",
            "Epoch: 438, Loss: 534.116\n",
            "Epoch: 439, Loss: 571.607\n",
            "Epoch: 440, Loss: 507.971\n",
            "Epoch: 441, Loss: 631.273\n",
            "Epoch: 442, Loss: 570.416\n",
            "Epoch: 443, Loss: 529.426\n",
            "Epoch: 444, Loss: 553.641\n",
            "Epoch: 445, Loss: 543.105\n",
            "Epoch: 446, Loss: 534.650\n",
            "Epoch: 447, Loss: 554.353\n",
            "Epoch: 448, Loss: 509.837\n",
            "Epoch: 449, Loss: 493.599\n",
            "Epoch: 450, Loss: 534.645\n",
            "Epoch: 451, Loss: 560.749\n",
            "Epoch: 452, Loss: 553.168\n",
            "Epoch: 453, Loss: 491.258\n",
            "Epoch: 454, Loss: 533.373\n",
            "Epoch: 455, Loss: 584.317\n",
            "Epoch: 456, Loss: 553.933\n",
            "Epoch: 457, Loss: 569.832\n",
            "Epoch: 458, Loss: 520.355\n",
            "Epoch: 459, Loss: 543.855\n",
            "Epoch: 460, Loss: 504.514\n",
            "Epoch: 461, Loss: 501.697\n",
            "Epoch: 462, Loss: 524.502\n",
            "Epoch: 463, Loss: 597.875\n",
            "Epoch: 464, Loss: 578.213\n",
            "Epoch: 465, Loss: 536.208\n",
            "Epoch: 466, Loss: 527.211\n",
            "Epoch: 467, Loss: 469.746\n",
            "Epoch: 468, Loss: 580.634\n",
            "Epoch: 469, Loss: 544.047\n",
            "Epoch: 470, Loss: 530.062\n",
            "Epoch: 471, Loss: 533.355\n",
            "Epoch: 472, Loss: 518.290\n",
            "Epoch: 473, Loss: 552.123\n",
            "Epoch: 474, Loss: 546.285\n",
            "Epoch: 475, Loss: 529.414\n",
            "Epoch: 476, Loss: 564.156\n",
            "Epoch: 477, Loss: 557.246\n",
            "Epoch: 478, Loss: 507.417\n",
            "Epoch: 479, Loss: 557.593\n",
            "Epoch: 480, Loss: 496.283\n",
            "Epoch: 481, Loss: 474.225\n",
            "Epoch: 482, Loss: 498.986\n",
            "Epoch: 483, Loss: 524.550\n",
            "Epoch: 484, Loss: 521.142\n",
            "Epoch: 485, Loss: 567.176\n",
            "Epoch: 486, Loss: 616.582\n",
            "Epoch: 487, Loss: 510.961\n",
            "Epoch: 488, Loss: 488.125\n",
            "Epoch: 489, Loss: 565.028\n",
            "Epoch: 490, Loss: 541.566\n",
            "Epoch: 491, Loss: 579.066\n",
            "Epoch: 492, Loss: 568.533\n",
            "Epoch: 493, Loss: 526.956\n",
            "Epoch: 494, Loss: 559.163\n",
            "Epoch: 495, Loss: 537.918\n",
            "Epoch: 496, Loss: 569.398\n",
            "Epoch: 497, Loss: 503.930\n",
            "Epoch: 498, Loss: 564.791\n",
            "Epoch: 499, Loss: 577.151\n",
            "Epoch: 500, Loss: 502.725\n",
            "Epoch: 501, Loss: 558.667\n",
            "Epoch: 502, Loss: 501.556\n",
            "Epoch: 503, Loss: 499.998\n",
            "Epoch: 504, Loss: 542.089\n",
            "Epoch: 505, Loss: 520.010\n",
            "Epoch: 506, Loss: 543.426\n",
            "Epoch: 507, Loss: 556.064\n",
            "Epoch: 508, Loss: 577.451\n",
            "Epoch: 509, Loss: 479.159\n",
            "Epoch: 510, Loss: 582.288\n",
            "Epoch: 511, Loss: 507.842\n",
            "Epoch: 512, Loss: 580.302\n",
            "Epoch: 513, Loss: 456.034\n",
            "Epoch: 514, Loss: 498.163\n",
            "Epoch: 515, Loss: 481.713\n",
            "Epoch: 516, Loss: 551.173\n",
            "Epoch: 517, Loss: 488.815\n",
            "Epoch: 518, Loss: 541.805\n",
            "Epoch: 519, Loss: 501.586\n",
            "Epoch: 520, Loss: 549.555\n",
            "Epoch: 521, Loss: 527.892\n",
            "Epoch: 522, Loss: 526.473\n",
            "Epoch: 523, Loss: 549.833\n",
            "Epoch: 524, Loss: 526.111\n",
            "Epoch: 525, Loss: 510.708\n",
            "Epoch: 526, Loss: 561.648\n",
            "Epoch: 527, Loss: 612.265\n",
            "Epoch: 528, Loss: 522.538\n",
            "Epoch: 529, Loss: 585.386\n",
            "Epoch: 530, Loss: 578.024\n",
            "Epoch: 531, Loss: 521.877\n",
            "Epoch: 532, Loss: 569.626\n",
            "Epoch: 533, Loss: 492.762\n",
            "Epoch: 534, Loss: 502.392\n",
            "Epoch: 535, Loss: 600.221\n",
            "Epoch: 536, Loss: 524.445\n",
            "Epoch: 537, Loss: 574.185\n",
            "Epoch: 538, Loss: 636.141\n",
            "Epoch: 539, Loss: 578.359\n",
            "Epoch: 540, Loss: 560.186\n",
            "Epoch: 541, Loss: 549.878\n",
            "Epoch: 542, Loss: 513.070\n",
            "Epoch: 543, Loss: 521.718\n",
            "Epoch: 544, Loss: 538.734\n",
            "Epoch: 545, Loss: 649.745\n",
            "Epoch: 546, Loss: 602.262\n",
            "Epoch: 547, Loss: 542.605\n",
            "Epoch: 548, Loss: 629.867\n",
            "Epoch: 549, Loss: 602.389\n",
            "Epoch: 550, Loss: 522.876\n",
            "Epoch: 551, Loss: 516.387\n",
            "Epoch: 552, Loss: 582.710\n",
            "Epoch: 553, Loss: 500.748\n",
            "Epoch: 554, Loss: 497.496\n",
            "Epoch: 555, Loss: 562.355\n",
            "Epoch: 556, Loss: 539.687\n",
            "Epoch: 557, Loss: 522.848\n",
            "Epoch: 558, Loss: 540.005\n",
            "Epoch: 559, Loss: 546.294\n",
            "Epoch: 560, Loss: 492.335\n",
            "Epoch: 561, Loss: 483.201\n",
            "Epoch: 562, Loss: 581.463\n",
            "Epoch: 563, Loss: 575.607\n",
            "Epoch: 564, Loss: 528.927\n",
            "Epoch: 565, Loss: 551.773\n",
            "Epoch: 566, Loss: 552.635\n",
            "Epoch: 567, Loss: 535.284\n",
            "Epoch: 568, Loss: 527.169\n",
            "Epoch: 569, Loss: 594.760\n",
            "Epoch: 570, Loss: 554.077\n",
            "Epoch: 571, Loss: 522.600\n",
            "Epoch: 572, Loss: 571.003\n",
            "Epoch: 573, Loss: 492.179\n",
            "Epoch: 574, Loss: 597.313\n",
            "Epoch: 575, Loss: 507.776\n",
            "Epoch: 576, Loss: 503.780\n",
            "Epoch: 577, Loss: 513.597\n",
            "Epoch: 578, Loss: 522.441\n",
            "Epoch: 579, Loss: 589.661\n",
            "Epoch: 580, Loss: 492.442\n",
            "Epoch: 581, Loss: 568.243\n",
            "Epoch: 582, Loss: 545.954\n",
            "Epoch: 583, Loss: 522.695\n",
            "Epoch: 584, Loss: 489.306\n",
            "Epoch: 585, Loss: 553.299\n",
            "Epoch: 586, Loss: 671.747\n",
            "Epoch: 587, Loss: 522.102\n",
            "Epoch: 588, Loss: 561.367\n",
            "Epoch: 589, Loss: 562.138\n",
            "Epoch: 590, Loss: 480.165\n",
            "Epoch: 591, Loss: 493.718\n",
            "Epoch: 592, Loss: 578.238\n",
            "Epoch: 593, Loss: 519.873\n",
            "Epoch: 594, Loss: 541.900\n",
            "Epoch: 595, Loss: 500.834\n",
            "Epoch: 596, Loss: 486.788\n",
            "Epoch: 597, Loss: 493.146\n",
            "Epoch: 598, Loss: 515.449\n",
            "Epoch: 599, Loss: 475.815\n",
            "Epoch: 600, Loss: 553.341\n",
            "Epoch: 601, Loss: 550.734\n",
            "Epoch: 602, Loss: 541.474\n",
            "Epoch: 603, Loss: 515.301\n",
            "Epoch: 604, Loss: 564.312\n",
            "Epoch: 605, Loss: 602.684\n",
            "Epoch: 606, Loss: 522.648\n",
            "Epoch: 607, Loss: 496.823\n",
            "Epoch: 608, Loss: 532.723\n",
            "Epoch: 609, Loss: 565.220\n",
            "Epoch: 610, Loss: 572.331\n",
            "Epoch: 611, Loss: 561.185\n",
            "Epoch: 612, Loss: 487.816\n",
            "Epoch: 613, Loss: 484.722\n",
            "Epoch: 614, Loss: 560.901\n",
            "Epoch: 615, Loss: 579.035\n",
            "Epoch: 616, Loss: 493.509\n",
            "Epoch: 617, Loss: 552.107\n",
            "Epoch: 618, Loss: 515.082\n",
            "Epoch: 619, Loss: 579.974\n",
            "Epoch: 620, Loss: 542.963\n",
            "Epoch: 621, Loss: 514.300\n",
            "Epoch: 622, Loss: 555.103\n",
            "Epoch: 623, Loss: 479.465\n",
            "Epoch: 624, Loss: 525.372\n",
            "Epoch: 625, Loss: 570.729\n",
            "Epoch: 626, Loss: 548.985\n",
            "Epoch: 627, Loss: 502.755\n",
            "Epoch: 628, Loss: 470.813\n",
            "Epoch: 629, Loss: 618.227\n",
            "Epoch: 630, Loss: 504.056\n",
            "Epoch: 631, Loss: 652.492\n",
            "Epoch: 632, Loss: 522.133\n",
            "Epoch: 633, Loss: 596.508\n",
            "Epoch: 634, Loss: 500.746\n",
            "Epoch: 635, Loss: 607.550\n",
            "Epoch: 636, Loss: 495.218\n",
            "Epoch: 637, Loss: 511.541\n",
            "Epoch: 638, Loss: 544.768\n",
            "Epoch: 639, Loss: 527.383\n",
            "Epoch: 640, Loss: 521.520\n",
            "Epoch: 641, Loss: 529.965\n",
            "Epoch: 642, Loss: 436.465\n",
            "Epoch: 643, Loss: 484.734\n",
            "Epoch: 644, Loss: 552.593\n",
            "Epoch: 645, Loss: 512.195\n",
            "Epoch: 646, Loss: 522.070\n",
            "Epoch: 647, Loss: 511.894\n",
            "Epoch: 648, Loss: 513.439\n",
            "Epoch: 649, Loss: 533.416\n",
            "Epoch: 650, Loss: 523.053\n",
            "Epoch: 651, Loss: 481.393\n",
            "Epoch: 652, Loss: 589.200\n",
            "Epoch: 653, Loss: 548.380\n",
            "Epoch: 654, Loss: 495.209\n",
            "Epoch: 655, Loss: 563.154\n",
            "Epoch: 656, Loss: 531.516\n",
            "Epoch: 657, Loss: 487.627\n",
            "Epoch: 658, Loss: 541.914\n",
            "Epoch: 659, Loss: 496.004\n",
            "Epoch: 660, Loss: 557.617\n",
            "Epoch: 661, Loss: 534.677\n",
            "Epoch: 662, Loss: 552.690\n",
            "Epoch: 663, Loss: 569.831\n",
            "Epoch: 664, Loss: 508.879\n",
            "Epoch: 665, Loss: 534.506\n",
            "Epoch: 666, Loss: 582.099\n",
            "Epoch: 667, Loss: 535.348\n",
            "Epoch: 668, Loss: 502.072\n",
            "Epoch: 669, Loss: 539.588\n",
            "Epoch: 670, Loss: 534.413\n",
            "Epoch: 671, Loss: 540.819\n",
            "Epoch: 672, Loss: 608.791\n",
            "Epoch: 673, Loss: 711.463\n",
            "Epoch: 674, Loss: 517.448\n",
            "Epoch: 675, Loss: 519.228\n",
            "Epoch: 676, Loss: 546.829\n",
            "Epoch: 677, Loss: 501.496\n",
            "Epoch: 678, Loss: 536.392\n",
            "Epoch: 679, Loss: 494.148\n",
            "Epoch: 680, Loss: 519.580\n",
            "Epoch: 681, Loss: 570.956\n",
            "Epoch: 682, Loss: 517.968\n",
            "Epoch: 683, Loss: 600.736\n",
            "Epoch: 684, Loss: 516.342\n",
            "Epoch: 685, Loss: 550.268\n",
            "Epoch: 686, Loss: 601.813\n",
            "Epoch: 687, Loss: 536.670\n",
            "Epoch: 688, Loss: 496.463\n",
            "Epoch: 689, Loss: 577.987\n",
            "Epoch: 690, Loss: 597.393\n",
            "Epoch: 691, Loss: 502.217\n",
            "Epoch: 692, Loss: 490.097\n",
            "Epoch: 693, Loss: 506.407\n",
            "Epoch: 694, Loss: 578.256\n",
            "Epoch: 695, Loss: 612.278\n",
            "Epoch: 696, Loss: 515.756\n",
            "Epoch: 697, Loss: 519.138\n",
            "Epoch: 698, Loss: 488.039\n",
            "Epoch: 699, Loss: 512.162\n",
            "Epoch: 700, Loss: 500.578\n",
            "Epoch: 701, Loss: 547.473\n",
            "Epoch: 702, Loss: 494.079\n",
            "Epoch: 703, Loss: 501.971\n",
            "Epoch: 704, Loss: 579.415\n",
            "Epoch: 705, Loss: 509.375\n",
            "Epoch: 706, Loss: 494.093\n",
            "Epoch: 707, Loss: 549.108\n",
            "Epoch: 708, Loss: 548.686\n",
            "Epoch: 709, Loss: 497.138\n",
            "Epoch: 710, Loss: 561.793\n",
            "Epoch: 711, Loss: 513.029\n",
            "Epoch: 712, Loss: 535.413\n",
            "Epoch: 713, Loss: 531.786\n",
            "Epoch: 714, Loss: 524.619\n",
            "Epoch: 715, Loss: 484.307\n",
            "Epoch: 716, Loss: 520.699\n",
            "Epoch: 717, Loss: 502.879\n",
            "Epoch: 718, Loss: 554.800\n",
            "Epoch: 719, Loss: 535.009\n",
            "Epoch: 720, Loss: 593.224\n",
            "Epoch: 721, Loss: 486.172\n",
            "Epoch: 722, Loss: 505.738\n",
            "Epoch: 723, Loss: 532.979\n",
            "Epoch: 724, Loss: 609.373\n",
            "Epoch: 725, Loss: 526.628\n",
            "Epoch: 726, Loss: 487.490\n",
            "Epoch: 727, Loss: 556.489\n",
            "Epoch: 728, Loss: 557.355\n",
            "Epoch: 729, Loss: 530.117\n",
            "Epoch: 730, Loss: 497.035\n",
            "Epoch: 731, Loss: 484.113\n",
            "Epoch: 732, Loss: 567.533\n",
            "Epoch: 733, Loss: 488.754\n",
            "Epoch: 734, Loss: 620.257\n",
            "Epoch: 735, Loss: 620.719\n",
            "Epoch: 736, Loss: 542.945\n",
            "Epoch: 737, Loss: 493.739\n",
            "Epoch: 738, Loss: 548.823\n",
            "Epoch: 739, Loss: 538.542\n",
            "Epoch: 740, Loss: 554.680\n",
            "Epoch: 741, Loss: 550.876\n",
            "Epoch: 742, Loss: 531.056\n",
            "Epoch: 743, Loss: 510.131\n",
            "Epoch: 744, Loss: 578.997\n",
            "Epoch: 745, Loss: 546.863\n",
            "Epoch: 746, Loss: 509.007\n",
            "Epoch: 747, Loss: 594.449\n",
            "Epoch: 748, Loss: 507.396\n",
            "Epoch: 749, Loss: 542.909\n",
            "Epoch: 750, Loss: 493.151\n",
            "Epoch: 751, Loss: 507.294\n",
            "Epoch: 752, Loss: 531.691\n",
            "Epoch: 753, Loss: 538.646\n",
            "Epoch: 754, Loss: 522.546\n",
            "Epoch: 755, Loss: 506.583\n",
            "Epoch: 756, Loss: 614.458\n",
            "Epoch: 757, Loss: 506.804\n",
            "Epoch: 758, Loss: 491.828\n",
            "Epoch: 759, Loss: 519.075\n",
            "Epoch: 760, Loss: 536.851\n",
            "Epoch: 761, Loss: 579.644\n",
            "Epoch: 762, Loss: 545.141\n",
            "Epoch: 763, Loss: 533.090\n",
            "Epoch: 764, Loss: 495.777\n",
            "Epoch: 765, Loss: 562.412\n",
            "Epoch: 766, Loss: 551.894\n",
            "Epoch: 767, Loss: 521.288\n",
            "Epoch: 768, Loss: 488.575\n",
            "Epoch: 769, Loss: 574.903\n",
            "Epoch: 770, Loss: 549.077\n",
            "Epoch: 771, Loss: 631.009\n",
            "Epoch: 772, Loss: 512.365\n",
            "Epoch: 773, Loss: 537.061\n",
            "Epoch: 774, Loss: 562.391\n",
            "Epoch: 775, Loss: 583.077\n",
            "Epoch: 776, Loss: 534.712\n",
            "Epoch: 777, Loss: 616.549\n",
            "Epoch: 778, Loss: 528.448\n",
            "Epoch: 779, Loss: 594.420\n",
            "Epoch: 780, Loss: 538.592\n",
            "Epoch: 781, Loss: 509.329\n",
            "Epoch: 782, Loss: 548.208\n",
            "Epoch: 783, Loss: 498.142\n",
            "Epoch: 784, Loss: 520.860\n",
            "Epoch: 785, Loss: 572.033\n",
            "Epoch: 786, Loss: 497.276\n",
            "Epoch: 787, Loss: 527.025\n",
            "Epoch: 788, Loss: 492.436\n",
            "Epoch: 789, Loss: 595.882\n",
            "Epoch: 790, Loss: 465.687\n",
            "Epoch: 791, Loss: 543.160\n",
            "Epoch: 792, Loss: 572.793\n",
            "Epoch: 793, Loss: 585.004\n",
            "Epoch: 794, Loss: 527.581\n",
            "Epoch: 795, Loss: 544.207\n",
            "Epoch: 796, Loss: 502.682\n",
            "Epoch: 797, Loss: 487.725\n",
            "Epoch: 798, Loss: 581.854\n",
            "Epoch: 799, Loss: 543.975\n",
            "Epoch: 800, Loss: 496.843\n",
            "Epoch: 801, Loss: 514.985\n",
            "Epoch: 802, Loss: 551.416\n",
            "Epoch: 803, Loss: 605.542\n",
            "Epoch: 804, Loss: 537.323\n",
            "Epoch: 805, Loss: 634.559\n",
            "Epoch: 806, Loss: 500.881\n",
            "Epoch: 807, Loss: 543.934\n",
            "Epoch: 808, Loss: 563.690\n",
            "Epoch: 809, Loss: 532.389\n",
            "Epoch: 810, Loss: 473.954\n",
            "Epoch: 811, Loss: 545.443\n",
            "Epoch: 812, Loss: 511.824\n",
            "Epoch: 813, Loss: 491.495\n",
            "Epoch: 814, Loss: 529.250\n",
            "Epoch: 815, Loss: 571.095\n",
            "Epoch: 816, Loss: 536.771\n",
            "Epoch: 817, Loss: 600.629\n",
            "Epoch: 818, Loss: 530.035\n",
            "Epoch: 819, Loss: 547.750\n",
            "Epoch: 820, Loss: 601.696\n",
            "Epoch: 821, Loss: 521.778\n",
            "Epoch: 822, Loss: 607.662\n",
            "Epoch: 823, Loss: 548.764\n",
            "Epoch: 824, Loss: 553.723\n",
            "Epoch: 825, Loss: 494.777\n",
            "Epoch: 826, Loss: 505.399\n",
            "Epoch: 827, Loss: 506.579\n",
            "Epoch: 828, Loss: 529.255\n",
            "Epoch: 829, Loss: 610.751\n",
            "Epoch: 830, Loss: 544.781\n",
            "Epoch: 831, Loss: 566.943\n",
            "Epoch: 832, Loss: 640.686\n",
            "Epoch: 833, Loss: 502.519\n",
            "Epoch: 834, Loss: 545.398\n",
            "Epoch: 835, Loss: 461.642\n",
            "Epoch: 836, Loss: 547.446\n",
            "Epoch: 837, Loss: 618.920\n",
            "Epoch: 838, Loss: 546.953\n",
            "Epoch: 839, Loss: 593.849\n",
            "Epoch: 840, Loss: 551.232\n",
            "Epoch: 841, Loss: 486.669\n",
            "Epoch: 842, Loss: 549.711\n",
            "Epoch: 843, Loss: 500.838\n",
            "Epoch: 844, Loss: 593.601\n",
            "Epoch: 845, Loss: 531.059\n",
            "Epoch: 846, Loss: 535.732\n",
            "Epoch: 847, Loss: 590.964\n",
            "Epoch: 848, Loss: 543.996\n",
            "Epoch: 849, Loss: 517.534\n",
            "Epoch: 850, Loss: 502.513\n",
            "Epoch: 851, Loss: 551.171\n",
            "Epoch: 852, Loss: 533.443\n",
            "Epoch: 853, Loss: 478.725\n",
            "Epoch: 854, Loss: 532.509\n",
            "Epoch: 855, Loss: 531.048\n",
            "Epoch: 856, Loss: 555.577\n",
            "Epoch: 857, Loss: 513.068\n",
            "Epoch: 858, Loss: 549.374\n",
            "Epoch: 859, Loss: 525.714\n",
            "Epoch: 860, Loss: 637.484\n",
            "Epoch: 861, Loss: 550.177\n",
            "Epoch: 862, Loss: 533.575\n",
            "Epoch: 863, Loss: 602.647\n",
            "Epoch: 864, Loss: 534.639\n",
            "Epoch: 865, Loss: 542.394\n",
            "Epoch: 866, Loss: 536.268\n",
            "Epoch: 867, Loss: 501.509\n",
            "Epoch: 868, Loss: 524.120\n",
            "Epoch: 869, Loss: 484.798\n",
            "Epoch: 870, Loss: 466.458\n",
            "Epoch: 871, Loss: 568.881\n",
            "Epoch: 872, Loss: 505.929\n",
            "Epoch: 873, Loss: 515.365\n",
            "Epoch: 874, Loss: 566.425\n",
            "Epoch: 875, Loss: 543.592\n",
            "Epoch: 876, Loss: 567.659\n",
            "Epoch: 877, Loss: 536.320\n",
            "Epoch: 878, Loss: 470.316\n",
            "Epoch: 879, Loss: 511.748\n",
            "Epoch: 880, Loss: 551.266\n",
            "Epoch: 881, Loss: 543.673\n",
            "Epoch: 882, Loss: 558.814\n",
            "Epoch: 883, Loss: 587.952\n",
            "Epoch: 884, Loss: 505.368\n",
            "Epoch: 885, Loss: 506.592\n",
            "Epoch: 886, Loss: 546.945\n",
            "Epoch: 887, Loss: 509.513\n",
            "Epoch: 888, Loss: 527.374\n",
            "Epoch: 889, Loss: 497.307\n",
            "Epoch: 890, Loss: 597.961\n",
            "Epoch: 891, Loss: 575.858\n",
            "Epoch: 892, Loss: 487.934\n",
            "Epoch: 893, Loss: 536.426\n",
            "Epoch: 894, Loss: 506.414\n",
            "Epoch: 895, Loss: 556.426\n",
            "Epoch: 896, Loss: 567.433\n",
            "Epoch: 897, Loss: 520.790\n",
            "Epoch: 898, Loss: 580.772\n",
            "Epoch: 899, Loss: 572.686\n",
            "Epoch: 900, Loss: 592.614\n",
            "Epoch: 901, Loss: 527.512\n",
            "Epoch: 902, Loss: 495.190\n",
            "Epoch: 903, Loss: 519.369\n",
            "Epoch: 904, Loss: 480.016\n",
            "Epoch: 905, Loss: 534.445\n",
            "Epoch: 906, Loss: 514.644\n",
            "Epoch: 907, Loss: 517.532\n",
            "Epoch: 908, Loss: 532.920\n",
            "Epoch: 909, Loss: 515.814\n",
            "Epoch: 910, Loss: 546.085\n",
            "Epoch: 911, Loss: 525.311\n",
            "Epoch: 912, Loss: 502.533\n",
            "Epoch: 913, Loss: 506.802\n",
            "Epoch: 914, Loss: 552.387\n",
            "Epoch: 915, Loss: 491.668\n",
            "Epoch: 916, Loss: 529.700\n",
            "Epoch: 917, Loss: 532.504\n",
            "Epoch: 918, Loss: 583.154\n",
            "Epoch: 919, Loss: 505.120\n",
            "Epoch: 920, Loss: 572.647\n",
            "Epoch: 921, Loss: 539.315\n",
            "Epoch: 922, Loss: 545.641\n",
            "Epoch: 923, Loss: 551.736\n",
            "Epoch: 924, Loss: 500.785\n",
            "Epoch: 925, Loss: 513.259\n",
            "Epoch: 926, Loss: 437.823\n",
            "Epoch: 927, Loss: 541.913\n",
            "Epoch: 928, Loss: 588.908\n",
            "Epoch: 929, Loss: 704.042\n",
            "Epoch: 930, Loss: 477.976\n",
            "Epoch: 931, Loss: 572.640\n",
            "Epoch: 932, Loss: 494.087\n",
            "Epoch: 933, Loss: 605.951\n",
            "Epoch: 934, Loss: 530.051\n",
            "Epoch: 935, Loss: 502.264\n",
            "Epoch: 936, Loss: 499.763\n",
            "Epoch: 937, Loss: 600.978\n",
            "Epoch: 938, Loss: 564.727\n",
            "Epoch: 939, Loss: 487.658\n",
            "Epoch: 940, Loss: 547.775\n",
            "Epoch: 941, Loss: 536.902\n",
            "Epoch: 942, Loss: 586.688\n",
            "Epoch: 943, Loss: 551.483\n",
            "Epoch: 944, Loss: 567.832\n",
            "Epoch: 945, Loss: 484.183\n",
            "Epoch: 946, Loss: 538.621\n",
            "Epoch: 947, Loss: 531.567\n",
            "Epoch: 948, Loss: 551.869\n",
            "Epoch: 949, Loss: 554.622\n",
            "Epoch: 950, Loss: 601.281\n",
            "Epoch: 951, Loss: 490.637\n",
            "Epoch: 952, Loss: 551.370\n",
            "Epoch: 953, Loss: 526.182\n",
            "Epoch: 954, Loss: 520.969\n",
            "Epoch: 955, Loss: 506.119\n",
            "Epoch: 956, Loss: 573.063\n",
            "Epoch: 957, Loss: 572.428\n",
            "Epoch: 958, Loss: 578.322\n",
            "Epoch: 959, Loss: 518.145\n",
            "Epoch: 960, Loss: 555.700\n",
            "Epoch: 961, Loss: 491.784\n",
            "Epoch: 962, Loss: 535.401\n",
            "Epoch: 963, Loss: 602.985\n",
            "Epoch: 964, Loss: 579.745\n",
            "Epoch: 965, Loss: 506.736\n",
            "Epoch: 966, Loss: 568.738\n",
            "Epoch: 967, Loss: 531.846\n",
            "Epoch: 968, Loss: 530.247\n",
            "Epoch: 969, Loss: 482.742\n",
            "Epoch: 970, Loss: 522.707\n",
            "Epoch: 971, Loss: 554.349\n",
            "Epoch: 972, Loss: 472.194\n",
            "Epoch: 973, Loss: 578.713\n",
            "Epoch: 974, Loss: 571.489\n",
            "Epoch: 975, Loss: 514.977\n",
            "Epoch: 976, Loss: 495.517\n",
            "Epoch: 977, Loss: 556.849\n",
            "Epoch: 978, Loss: 525.571\n",
            "Epoch: 979, Loss: 536.999\n",
            "Epoch: 980, Loss: 506.849\n",
            "Epoch: 981, Loss: 587.321\n",
            "Epoch: 982, Loss: 541.417\n",
            "Epoch: 983, Loss: 500.681\n",
            "Epoch: 984, Loss: 477.870\n",
            "Epoch: 985, Loss: 483.786\n",
            "Epoch: 986, Loss: 550.732\n",
            "Epoch: 987, Loss: 506.824\n",
            "Epoch: 988, Loss: 510.281\n",
            "Epoch: 989, Loss: 506.021\n",
            "Epoch: 990, Loss: 544.428\n",
            "Epoch: 991, Loss: 525.884\n",
            "Epoch: 992, Loss: 546.835\n",
            "Epoch: 993, Loss: 532.629\n",
            "Epoch: 994, Loss: 508.474\n",
            "Epoch: 995, Loss: 516.451\n",
            "Epoch: 996, Loss: 526.783\n",
            "Epoch: 997, Loss: 539.437\n",
            "Epoch: 998, Loss: 524.648\n",
            "Epoch: 999, Loss: 506.123\n",
            "Epoch: 1000, Loss: 520.302\n"
          ]
        }
      ]
    },
    {
      "cell_type": "code",
      "source": [
        "from matplotlib.pyplot import figure\n",
        "plt.figure(figsize=(25,6))\n",
        "plt.plot(y_test, label='Actual')\n",
        "plt.plot(y_pred_customsgd, label='Predicted')\n",
        "plt.legend(prop={'size': 16})\n",
        "plt.show()\n",
        "print('Mean Squared Error :',mean_squared_error(y_test, y_pred_customsgd))"
      ],
      "metadata": {
        "colab": {
          "base_uri": "https://localhost:8080/",
          "height": 388
        },
        "id": "gxPro7-lpqYz",
        "outputId": "45858597-8f71-4590-e598-dd6c70f7426b"
      },
      "execution_count": 42,
      "outputs": [
        {
          "output_type": "display_data",
          "data": {
            "image/png": "[encoded data removed]",
            "text/plain": [
              "<Figure size 1800x432 with 1 Axes>"
            ]
          },
          "metadata": {
            "needs_background": "light"
          }
        },
        {
          "output_type": "stream",
          "name": "stdout",
          "text": [
            "Mean Squared Error : 27.721624347816356\n"
          ]
        }
      ]
    }
  ]
}